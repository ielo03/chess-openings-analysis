{
 "cells": [
  {
   "cell_type": "markdown",
   "id": "d2495e03-b511-49cc-a0bf-f973e8434e2e",
   "metadata": {},
   "source": [
    "# Convert pgn to df\n",
    "#### Saved as .feather for ease of use between partners\n",
    "#### Dropped all Dates, Titles, and Rounds, as they won't be relevant"
   ]
  },
  {
   "cell_type": "code",
   "execution_count": 1,
   "id": "491d5cca-3d94-4ecc-bdd0-b37511d986ae",
   "metadata": {},
   "outputs": [],
   "source": [
    "import chess.pgn\n",
    "import io\n",
    "import math\n",
    "import pandas as pd\n",
    "import importlib\n",
    "import logging\n",
    "import os\n",
    "import pyarrow\n",
    "import time\n",
    "import datetime\n",
    "\n",
    "pgn_path = '../lichess_db_standard_rated_2016-09.pgn'\n",
    "feather_path = '../lichess_db_standard_rated_2016-09.feather'\n",
    "\n",
    "# Configure logging\n",
    "logging.basicConfig(filename='process.log', level=logging.INFO, \n",
    "                    format='%(asctime)s - %(message)s', datefmt='%H:%M:%S')\n",
    "\n",
    "def drop_columns_if_exists(drop_from_df, columns_to_drop):\n",
    "    for col in columns_to_drop:\n",
    "        if col in drop_from_df.columns:\n",
    "            drop_from_df.drop(col, axis=1, inplace=True)\n",
    "    return drop_from_df\n",
    "\n",
    "def skip_games(pgn, starting_game):\n",
    "    current_game = -1\n",
    "    while current_game < starting_game:\n",
    "        line = pgn.readline()\n",
    "        if not line:\n",
    "            break  # EOF\n",
    "        if line.startswith('[Event '):  # Typically indicates start of a new game\n",
    "            current_game += 1\n",
    "            if current_game == starting_game:\n",
    "                # Move back to the start of this game.\n",
    "                pgn.seek(pgn.tell() - len(line))\n",
    "                return\n",
    "\n",
    "# Function to read a PGN file and extract data\n",
    "def read_pgn(pgn_path, starting_game, num_games):\n",
    "    logging.info(f\"Starting read_pgn for {pgn_path} at {starting_game} for {num_games} games\")\n",
    "    \n",
    "    hundreth = math.floor(num_games / 100)\n",
    "    games_data = []\n",
    "    \n",
    "    with open(pgn_path) as pgn:\n",
    "\n",
    "        # Skip to first game to extract\n",
    "        skip_games(pgn, starting_game)\n",
    "\n",
    "        start_time = time.time()\n",
    "\n",
    "        # Convert num_games games from pgn to df\n",
    "        for i in range(num_games):\n",
    "            \n",
    "            # Log progress\n",
    "            if (i % hundreth == 0):\n",
    "                cur_time = time.time()\n",
    "                elapsed_time = cur_time - start_time\n",
    "                percent_done = int(i / hundreth)\n",
    "                percent_left = 100 - percent_done\n",
    "                mean_time_per_hundreth = elapsed_time / percent_done if percent_done else 0\n",
    "                est_time_left = mean_time_per_hundreth * percent_left\n",
    "\n",
    "                percent_done_formatted = \"{:02d}\".format(percent_done)\n",
    "                elapsed_time_formatted = str(datetime.timedelta(seconds=int(elapsed_time)))\n",
    "                est_time_left_formatted = str(datetime.timedelta(seconds=int(est_time_left)))\n",
    "                logging.info(f\"Completed: {percent_done_formatted}%, Elapsed: {elapsed_time_formatted}, Est Time Left: {est_time_left_formatted}\")\n",
    "\n",
    "            # Read next game\n",
    "            game = chess.pgn.read_game(pgn)\n",
    "            if game is None:\n",
    "                break\n",
    "                \n",
    "            # Extract and append data from the game\n",
    "            extracted_data = {key: game.headers[key] for key in game.headers.keys()}\n",
    "            extracted_data['Moves'] = str(game.mainline())\n",
    "            \n",
    "            games_data.append(extracted_data)\n",
    "            \n",
    "    logging.info(f\"Done with read_pgn for {pgn_path} at {starting_game} for {num_games} games\")\n",
    "    \n",
    "    games_df = pd.DataFrame(games_data)\n",
    "    drop_columns_if_exists(games_df, ['Round', 'Date', 'UTCDate', 'UTCTime', 'WhiteTitle', 'BlackTitle'])\n",
    "    \n",
    "    return games_df\n",
    "\n",
    "def append_feather(pgn_path, feather_path, starting_game, num_games):\n",
    "    new_df = read_pgn(pgn_path, starting_game, num_games)\n",
    "    feather_df = pd.read_feather(feather_path) if os.path.exists(feather_path) else pd.DataFrame()\n",
    "    combined_df = pd.concat([feather_df, new_df], ignore_index=True)\n",
    "    combined_df.to_feather(feather_path)\n",
    "    logging.info(f\"Added {len(new_df)} games to {len(feather_df)} games already saved\")\n",
    "    return len(combined_df)"
   ]
  },
  {
   "cell_type": "markdown",
   "id": "cfe54394-547c-47e1-8637-e57d0b9f6415",
   "metadata": {},
   "source": [
    "#### 7m games takes about 3h to convert. My computer keeps going to sleep and failing.\n",
    "#### I go 1m at a time, effectively creating checkpoints as it's processing"
   ]
  },
  {
   "cell_type": "code",
   "execution_count": 2,
   "id": "4d6c0d42-a0c5-483f-b9f8-b70a8c70f0f7",
   "metadata": {},
   "outputs": [
    {
     "data": {
      "text/plain": [
       "1000000"
      ]
     },
     "execution_count": 2,
     "metadata": {},
     "output_type": "execute_result"
    }
   ],
   "source": [
    "append_feather(pgn_path, feather_path, 0, 1000000)"
   ]
  },
  {
   "cell_type": "code",
   "execution_count": 4,
   "id": "e0a5db7c-4994-4370-a9f5-552f34c9915b",
   "metadata": {},
   "outputs": [
    {
     "data": {
      "text/plain": [
       "2000000"
      ]
     },
     "execution_count": 4,
     "metadata": {},
     "output_type": "execute_result"
    }
   ],
   "source": [
    "append_feather(pgn_path, feather_path, 1000000, 1000000)"
   ]
  },
  {
   "cell_type": "code",
   "execution_count": 6,
   "id": "abf3f63d-d34a-47ad-a0b0-3d73dd3c70e4",
   "metadata": {},
   "outputs": [
    {
     "data": {
      "text/plain": [
       "3000000"
      ]
     },
     "execution_count": 6,
     "metadata": {},
     "output_type": "execute_result"
    }
   ],
   "source": [
    "append_feather(pgn_path, feather_path, 2000000, 1000000)"
   ]
  },
  {
   "cell_type": "code",
   "execution_count": 7,
   "id": "4475675b-856d-49c3-8aaf-9dbbe72d371b",
   "metadata": {},
   "outputs": [
    {
     "data": {
      "text/plain": [
       "4000000"
      ]
     },
     "execution_count": 7,
     "metadata": {},
     "output_type": "execute_result"
    }
   ],
   "source": [
    "append_feather(pgn_path, feather_path, 3000000, 1000000)"
   ]
  },
  {
   "cell_type": "code",
   "execution_count": 8,
   "id": "2fa11773-e797-4e3c-be26-c517bdd33598",
   "metadata": {},
   "outputs": [
    {
     "data": {
      "text/plain": [
       "5000000"
      ]
     },
     "execution_count": 8,
     "metadata": {},
     "output_type": "execute_result"
    }
   ],
   "source": [
    "append_feather(pgn_path, feather_path, 4000000, 1000000)"
   ]
  },
  {
   "cell_type": "code",
   "execution_count": 9,
   "id": "e384f030-8b1c-4aa3-9662-32005ee5391f",
   "metadata": {},
   "outputs": [
    {
     "data": {
      "text/plain": [
       "6000000"
      ]
     },
     "execution_count": 9,
     "metadata": {},
     "output_type": "execute_result"
    }
   ],
   "source": [
    "append_feather(pgn_path, feather_path, 5000000, 1000000)"
   ]
  },
  {
   "cell_type": "code",
   "execution_count": 10,
   "id": "cc63e2b8-42cb-4047-aeb9-74ae147da0bd",
   "metadata": {},
   "outputs": [
    {
     "data": {
      "text/plain": [
       "6813113"
      ]
     },
     "execution_count": 10,
     "metadata": {},
     "output_type": "execute_result"
    }
   ],
   "source": [
    "append_feather(pgn_path, feather_path, 6000000, 1000000)"
   ]
  }
 ],
 "metadata": {
  "kernelspec": {
   "display_name": "Python 3 (ipykernel)",
   "language": "python",
   "name": "python3"
  },
  "language_info": {
   "codemirror_mode": {
    "name": "ipython",
    "version": 3
   },
   "file_extension": ".py",
   "mimetype": "text/x-python",
   "name": "python",
   "nbconvert_exporter": "python",
   "pygments_lexer": "ipython3",
   "version": "3.12.2"
  }
 },
 "nbformat": 4,
 "nbformat_minor": 5
}
