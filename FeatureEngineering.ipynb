{
 "cells": [
  {
   "cell_type": "code",
   "execution_count": 1,
   "id": "998a6530-ead5-4a44-90de-bc78418537eb",
   "metadata": {},
   "outputs": [
    {
     "data": {
      "text/plain": [
       "3744304"
      ]
     },
     "execution_count": 1,
     "metadata": {},
     "output_type": "execute_result"
    }
   ],
   "source": [
    "import chess.pgn\n",
    "import chess\n",
    "import chess.engine\n",
    "import math\n",
    "import numpy\n",
    "import pandas as pd\n",
    "import os\n",
    "import pyarrow\n",
    "import logging\n",
    "import re\n",
    "\n",
    "# Configure logging\n",
    "logging.basicConfig(filename='process.log', level=logging.INFO, \n",
    "                    format='%(asctime)s - %(message)s', datefmt='%H:%M:%S')\n",
    "\n",
    "final_path = './lichess_2016-09_valid_games.feather'\n",
    "\n",
    "df = pd.read_feather(final_path)\n",
    "len(df)"
   ]
  },
  {
   "cell_type": "code",
   "execution_count": 2,
   "id": "c2dc2ddb-3d67-4166-bed3-ead831dea1b6",
   "metadata": {},
   "outputs": [
    {
     "data": {
      "text/plain": [
       "3742370"
      ]
     },
     "execution_count": 2,
     "metadata": {},
     "output_type": "execute_result"
    }
   ],
   "source": [
    "df = df.dropna(subset=['WhiteRatingDiff', 'BlackRatingDiff'])\n",
    "len(df)"
   ]
  },
  {
   "cell_type": "code",
   "execution_count": 3,
   "id": "d1bb7052-1125-464d-acb6-88087f3be5fe",
   "metadata": {},
   "outputs": [
    {
     "name": "stdout",
     "output_type": "stream",
     "text": [
      "<class 'pandas.core.frame.DataFrame'>\n",
      "Index: 3742370 entries, 2 to 6813118\n",
      "Data columns (total 14 columns):\n",
      " #   Column           Dtype \n",
      "---  ------           ----- \n",
      " 0   Event            object\n",
      " 1   Site             object\n",
      " 2   White            object\n",
      " 3   Black            object\n",
      " 4   Result           object\n",
      " 5   WhiteElo         object\n",
      " 6   BlackElo         object\n",
      " 7   WhiteRatingDiff  object\n",
      " 8   BlackRatingDiff  object\n",
      " 9   ECO              object\n",
      " 10  Opening          object\n",
      " 11  TimeControl      object\n",
      " 12  Termination      object\n",
      " 13  Moves            object\n",
      "dtypes: object(14)\n",
      "memory usage: 428.3+ MB\n"
     ]
    }
   ],
   "source": [
    "df.info()"
   ]
  },
  {
   "cell_type": "code",
   "execution_count": 4,
   "id": "3a1ce610-6a95-4cbe-b325-a400bd894a28",
   "metadata": {},
   "outputs": [
    {
     "name": "stdout",
     "output_type": "stream",
     "text": [
      "<class 'pandas.core.frame.DataFrame'>\n",
      "Index: 3742370 entries, 2 to 6813118\n",
      "Data columns (total 6 columns):\n",
      " #   Column           Dtype \n",
      "---  ------           ----- \n",
      " 0   White            object\n",
      " 1   Result           object\n",
      " 2   WhiteElo         object\n",
      " 3   BlackElo         object\n",
      " 4   WhiteRatingDiff  object\n",
      " 5   Opening          object\n",
      "dtypes: object(6)\n",
      "memory usage: 199.9+ MB\n"
     ]
    }
   ],
   "source": [
    "df.drop(['Event', 'Site', 'Black', 'BlackRatingDiff', 'ECO', 'TimeControl', 'Termination', 'Moves'], axis=1, inplace=True)\n",
    "df.info()"
   ]
  },
  {
   "cell_type": "code",
   "execution_count": 5,
   "id": "9a38ad04-1120-47f8-9257-9872ff7ba1d2",
   "metadata": {},
   "outputs": [
    {
     "name": "stdout",
     "output_type": "stream",
     "text": [
      "<class 'pandas.core.frame.DataFrame'>\n",
      "Index: 3742370 entries, 2 to 6813118\n",
      "Data columns (total 6 columns):\n",
      " #   Column           Dtype \n",
      "---  ------           ----- \n",
      " 0   White            object\n",
      " 1   Result           int64 \n",
      " 2   WhiteElo         object\n",
      " 3   BlackElo         object\n",
      " 4   WhiteRatingDiff  object\n",
      " 5   Opening          object\n",
      "dtypes: int64(1), object(5)\n",
      "memory usage: 199.9+ MB\n"
     ]
    },
    {
     "name": "stderr",
     "output_type": "stream",
     "text": [
      "/var/folders/_1/gbh7tm8j7tn3yvh79xv0w95m0000gn/T/ipykernel_40441/3887891583.py:1: FutureWarning: Downcasting behavior in `replace` is deprecated and will be removed in a future version. To retain the old behavior, explicitly call `result.infer_objects(copy=False)`. To opt-in to the future behavior, set `pd.set_option('future.no_silent_downcasting', True)`\n",
      "  df['Result'] = df['Result'].replace({'1-0': 1, '0-1': -1, '1/2-1/2': 0})\n"
     ]
    }
   ],
   "source": [
    "df['Result'] = df['Result'].replace({'1-0': 1, '0-1': -1, '1/2-1/2': 0})\n",
    "df.info()"
   ]
  },
  {
   "cell_type": "code",
   "execution_count": 6,
   "id": "d0e5dc6c-e725-4aca-ae04-27a1a2ece9a1",
   "metadata": {},
   "outputs": [
    {
     "name": "stdout",
     "output_type": "stream",
     "text": [
      "<class 'pandas.core.frame.DataFrame'>\n",
      "Index: 3742370 entries, 2 to 6813118\n",
      "Data columns (total 6 columns):\n",
      " #   Column           Dtype \n",
      "---  ------           ----- \n",
      " 0   White            object\n",
      " 1   Result           int64 \n",
      " 2   WhiteElo         int64 \n",
      " 3   BlackElo         int64 \n",
      " 4   WhiteRatingDiff  object\n",
      " 5   Opening          object\n",
      "dtypes: int64(3), object(3)\n",
      "memory usage: 199.9+ MB\n"
     ]
    }
   ],
   "source": [
    "df['WhiteElo'] = df['WhiteElo'].astype(int)\n",
    "df['BlackElo'] = df['BlackElo'].astype(int)\n",
    "df.info()"
   ]
  },
  {
   "cell_type": "code",
   "execution_count": 7,
   "id": "d3663204-cb1e-44a4-a808-d04d966065de",
   "metadata": {},
   "outputs": [
    {
     "name": "stdout",
     "output_type": "stream",
     "text": [
      "<class 'pandas.core.frame.DataFrame'>\n",
      "Index: 3742370 entries, 2 to 6813118\n",
      "Data columns (total 6 columns):\n",
      " #   Column           Dtype \n",
      "---  ------           ----- \n",
      " 0   White            object\n",
      " 1   Result           int64 \n",
      " 2   WhiteElo         int64 \n",
      " 3   BlackElo         int64 \n",
      " 4   WhiteRatingDiff  int64 \n",
      " 5   Opening          object\n",
      "dtypes: int64(4), object(2)\n",
      "memory usage: 199.9+ MB\n"
     ]
    }
   ],
   "source": [
    "df['WhiteRatingDiff'] = df['WhiteRatingDiff'].astype(int)\n",
    "df.info()"
   ]
  },
  {
   "cell_type": "code",
   "execution_count": 8,
   "id": "30dfe432-c638-4a48-a49f-56aef413c912",
   "metadata": {},
   "outputs": [
    {
     "name": "stdout",
     "output_type": "stream",
     "text": [
      "<class 'pandas.core.frame.DataFrame'>\n",
      "Index: 3742370 entries, 2 to 6813118\n",
      "Data columns (total 6 columns):\n",
      " #   Column           Dtype \n",
      "---  ------           ----- \n",
      " 0   White            object\n",
      " 1   Result           int8  \n",
      " 2   WhiteElo         int16 \n",
      " 3   BlackElo         int16 \n",
      " 4   WhiteRatingDiff  int16 \n",
      " 5   Opening          object\n",
      "dtypes: int16(3), int8(1), object(2)\n",
      "memory usage: 110.6+ MB\n"
     ]
    }
   ],
   "source": [
    "int_columns = df.select_dtypes(include=['int64']).columns\n",
    "\n",
    "for col in int_columns:\n",
    "    df[col] = pd.to_numeric(df[col], downcast='integer')\n",
    "\n",
    "df.info()"
   ]
  },
  {
   "cell_type": "code",
   "execution_count": 9,
   "id": "f1fe1dc4-6386-464e-ab58-92b87ffa33be",
   "metadata": {},
   "outputs": [
    {
     "data": {
      "text/plain": [
       "White\n",
       "bobificher      999\n",
       "valmasia3       912\n",
       "chaabanesami    886\n",
       "r2d227          826\n",
       "philippe941     784\n",
       "               ... \n",
       "joaovitordf       1\n",
       "HelderViana       1\n",
       "Ayre              1\n",
       "raezhugo          1\n",
       "kamburmen         1\n",
       "Name: count, Length: 115117, dtype: int64"
      ]
     },
     "execution_count": 9,
     "metadata": {},
     "output_type": "execute_result"
    }
   ],
   "source": [
    "df['White'].value_counts()"
   ]
  },
  {
   "cell_type": "code",
   "execution_count": 10,
   "id": "484e2d76-51d6-42b7-ab24-271b2300ab53",
   "metadata": {},
   "outputs": [
    {
     "data": {
      "text/plain": [
       "1117487"
      ]
     },
     "execution_count": 10,
     "metadata": {},
     "output_type": "execute_result"
    }
   ],
   "source": [
    "games_played_per = df['White'].value_counts()\n",
    "lt_fifty_games_played = games_played_per[games_played_per < 50]\n",
    "lt_fifty_games_played.sum()"
   ]
  },
  {
   "cell_type": "code",
   "execution_count": 11,
   "id": "a436d098-e359-4319-af92-e01a06cc5217",
   "metadata": {},
   "outputs": [
    {
     "data": {
      "text/plain": [
       "White\n",
       "bobificher      999\n",
       "valmasia3       912\n",
       "chaabanesami    886\n",
       "r2d227          826\n",
       "philippe941     784\n",
       "               ... \n",
       "Kent85           50\n",
       "jerr68           50\n",
       "szaszynkowo      50\n",
       "SirOchsen        50\n",
       "MrLight          50\n",
       "Name: count, Length: 23924, dtype: int64"
      ]
     },
     "execution_count": 11,
     "metadata": {},
     "output_type": "execute_result"
    }
   ],
   "source": [
    "games_played_per = df['White'].value_counts()\n",
    "\n",
    "lt_fifty_games_played_player = games_played_per[games_played_per < 50].index\n",
    "\n",
    "df_filtered = df[~df['White'].isin(lt_fifty_games_played_player)]\n",
    "df_filtered['White'].value_counts()"
   ]
  },
  {
   "cell_type": "code",
   "execution_count": 12,
   "id": "909f833f-a8a1-49f8-b5bf-20f7ea3fe763",
   "metadata": {},
   "outputs": [],
   "source": [
    "df = df_filtered"
   ]
  },
  {
   "cell_type": "code",
   "execution_count": 13,
   "id": "491effb1-6adb-4575-a841-62ee9f6a27c3",
   "metadata": {},
   "outputs": [
    {
     "name": "stdout",
     "output_type": "stream",
     "text": [
      "<class 'pandas.core.frame.DataFrame'>\n",
      "Index: 2623531 entries, 2 to 6813118\n",
      "Data columns (total 6 columns):\n",
      " #   Column           Dtype \n",
      "---  ------           ----- \n",
      " 0   White            object\n",
      " 1   Result           int8  \n",
      " 2   WhiteElo         int16 \n",
      " 3   BlackElo         int16 \n",
      " 4   WhiteRatingDiff  int16 \n",
      " 5   Opening          object\n",
      "dtypes: int16(3), int8(1), object(2)\n",
      "memory usage: 77.6+ MB\n"
     ]
    }
   ],
   "source": [
    "df = df[(df['Opening'] != '?')]\n",
    "df.info()"
   ]
  },
  {
   "cell_type": "code",
   "execution_count": 14,
   "id": "44193116-eafd-4bea-9489-728f0e7ae611",
   "metadata": {},
   "outputs": [
    {
     "name": "stderr",
     "output_type": "stream",
     "text": [
      "/var/folders/_1/gbh7tm8j7tn3yvh79xv0w95m0000gn/T/ipykernel_40441/732898586.py:1: SettingWithCopyWarning: \n",
      "A value is trying to be set on a copy of a slice from a DataFrame.\n",
      "Try using .loc[row_indexer,col_indexer] = value instead\n",
      "\n",
      "See the caveats in the documentation: https://pandas.pydata.org/pandas-docs/stable/user_guide/indexing.html#returning-a-view-versus-a-copy\n",
      "  df.loc[:, 'EloDiff'] = df['WhiteElo'] - df['BlackElo']\n"
     ]
    }
   ],
   "source": [
    "df.loc[:, 'EloDiff'] = df['WhiteElo'] - df['BlackElo']\n",
    "df = df.copy()"
   ]
  },
  {
   "cell_type": "code",
   "execution_count": 15,
   "id": "36c40534-824d-4f4a-8d9c-ef65963842a1",
   "metadata": {},
   "outputs": [
    {
     "name": "stdout",
     "output_type": "stream",
     "text": [
      "<class 'pandas.core.frame.DataFrame'>\n",
      "Index: 2623531 entries, 2 to 6813118\n",
      "Data columns (total 7 columns):\n",
      " #   Column           Dtype \n",
      "---  ------           ----- \n",
      " 0   White            object\n",
      " 1   Result           int8  \n",
      " 2   WhiteElo         int16 \n",
      " 3   BlackElo         int16 \n",
      " 4   WhiteRatingDiff  int16 \n",
      " 5   Opening          object\n",
      " 6   EloDiff          int16 \n",
      "dtypes: int16(4), int8(1), object(2)\n",
      "memory usage: 82.6+ MB\n"
     ]
    }
   ],
   "source": [
    "df.info()"
   ]
  },
  {
   "cell_type": "code",
   "execution_count": 16,
   "id": "fce5a6d5-fb5a-440c-851b-4b28e8bc1874",
   "metadata": {},
   "outputs": [
    {
     "name": "stdout",
     "output_type": "stream",
     "text": [
      "<class 'pandas.core.frame.DataFrame'>\n",
      "Index: 2623531 entries, 2 to 6813118\n",
      "Data columns (total 4 columns):\n",
      " #   Column   Dtype \n",
      "---  ------   ----- \n",
      " 0   White    object\n",
      " 1   Result   int8  \n",
      " 2   Opening  object\n",
      " 3   EloDiff  int16 \n",
      "dtypes: int16(1), int8(1), object(2)\n",
      "memory usage: 67.6+ MB\n"
     ]
    }
   ],
   "source": [
    "df.drop(['WhiteElo', 'BlackElo', 'WhiteRatingDiff'], axis=1, inplace=True)\n",
    "df.info()"
   ]
  },
  {
   "cell_type": "code",
   "execution_count": 20,
   "id": "dce16f7a-2878-4b63-bac5-8d5488ca4054",
   "metadata": {},
   "outputs": [
    {
     "data": {
      "text/plain": [
       "Opening\n",
       "Sicilian Defense                     333900\n",
       "French Defense                       186077\n",
       "Queen's Pawn Game                    168758\n",
       "Scandinavian Defense                 122180\n",
       "King's Pawn Game                     108790\n",
       "Italian Game                          99673\n",
       "Philidor Defense                      98807\n",
       "Caro-Kann Defense                     83916\n",
       "English Opening                       79892\n",
       "Ruy Lopez                             73410\n",
       "Bishop's Opening                      62286\n",
       "Scotch Game                           52006\n",
       "Modern Defense                        48022\n",
       "Queen's Gambit Declined               46498\n",
       "Van't Kruijs Opening                  46390\n",
       "Indian Game                           44646\n",
       "Pirc Defense                          41350\n",
       "Zukertort Opening                     36214\n",
       "Horwitz Defense                       35146\n",
       "King's Gambit Accepted                33308\n",
       "Nimzowitsch Defense                   32948\n",
       "Slav Defense                          30470\n",
       "Four Knights Game                     30098\n",
       "Queen's Gambit Accepted               29962\n",
       "Owen Defense                          29786\n",
       "Queen's Gambit Refused                29505\n",
       "Hungarian Opening                     29402\n",
       "Alekhine Defense                      27353\n",
       "Bird Opening                          26265\n",
       "Russian Game                          25401\n",
       "Vienna Game                           25072\n",
       "King's Indian Defense                 23886\n",
       "Nimzo-Larsen Attack                   23818\n",
       "Center Game                           22901\n",
       "Queen's Pawn                          18222\n",
       "Nimzo-Indian Defense                  16826\n",
       "Dutch Defense                         15868\n",
       "Semi-Slav Defense                     15218\n",
       "Polish Opening                        14831\n",
       "Rat Defense                           14772\n",
       "Benoni Defense                        14039\n",
       "King's Knight Opening                 13872\n",
       "English Defense                       12557\n",
       "King's Gambit Declined                12383\n",
       "Three Knights Opening                 12379\n",
       "Robatsch (Modern) Defense             12320\n",
       "King's Gambit                         12219\n",
       "Mieses Opening                        10317\n",
       "Old Benoni Defense                    10089\n",
       "Giuoco Piano                           9023\n",
       "Petrov's Defense                       8925\n",
       "Van Geet Opening                       8908\n",
       "King's Indian Attack                   8747\n",
       "Reti Opening                           8715\n",
       "Ponziani Opening                       7924\n",
       "Blackmar-Diemer Gambit                 7872\n",
       "Danish Gambit                          7414\n",
       "Elephant Gambit                        7402\n",
       "Trompowsky Attack                      7068\n",
       "Gruenfeld Defense                      6564\n",
       "St. George Defense                     6422\n",
       "Grob Opening                           6206\n",
       "Old Indian Defense                     6190\n",
       "Colle System                           5617\n",
       "Torre Attack                           5339\n",
       "Englund Gambit Declined                5196\n",
       "Saragossa Opening                      5020\n",
       "Englund Gambit                         4967\n",
       "Englund Gambit Complex                 4918\n",
       "Mikenas Defense                        4117\n",
       "Danish Gambit Accepted                 3707\n",
       "Budapest Defense                       3551\n",
       "Queen's Indian Defense                 2822\n",
       "Duras Gambit                           2779\n",
       "Franco-Benoni Defense                  2746\n",
       "Tarrasch Defense                       2728\n",
       "East Indian Defense                    2521\n",
       "King's Pawn Opening                    2281\n",
       "London System                          2245\n",
       "Latvian Gambit                         2076\n",
       "Richter-Veresov Attack                 2001\n",
       "Kadas Opening                          1975\n",
       "Latvian Gambit Accepted                1967\n",
       "Queen's Gambit                         1932\n",
       "Benko Gambit                           1883\n",
       "Catalan Opening                        1806\n",
       "Englund Gambit Complex Declined        1761\n",
       "Ware Opening                           1708\n",
       "Anderssen Opening                      1689\n",
       "Borg Defense                           1686\n",
       "Gedult's Opening                       1631\n",
       "Gunderam Defense                       1606\n",
       "Benko Gambit Accepted                  1602\n",
       "Yusupov-Rubinstein System              1596\n",
       "Barnes Defense                         1530\n",
       "Goldsmith Defense                      1512\n",
       "Ware Defense                           1503\n",
       "Czech Defense                          1483\n",
       "Clemenz Opening                        1393\n",
       "King's Pawn                            1259\n",
       "Amazon Attack                          1156\n",
       "Bogo-Indian Defense                    1156\n",
       "Polish Defense                         1146\n",
       "Neo-Gruenfeld Defense                  1133\n",
       "Petrov                                 1108\n",
       "Canard Opening                         1099\n",
       "Queen's Pawn Opening                   1058\n",
       "Portuguese Opening                     1021\n",
       "Carr Defense                           1014\n",
       "Pterodactyl Defense                     974\n",
       "Nimzowitsch-Larsen Attack               912\n",
       "Blumenfeld Countergambit                906\n",
       "Kangaroo Defense                        897\n",
       "Danish Gambit Declined                  874\n",
       "Mexican Defense                         830\n",
       "Paleface Attack                         798\n",
       "Lion Defense                            775\n",
       "Slav Indian                             766\n",
       "Old Indian                              676\n",
       "Blackmar-Diemer Gambit Declined         638\n",
       "Queen's Indian Accelerated              519\n",
       "Semi-Bononi                             483\n",
       "Guatemala Defense                       454\n",
       "Amar Opening                            445\n",
       "Wade Defense                            427\n",
       "Creepy Crawly Formation                 392\n",
       "Rubinstein Opening                      349\n",
       "Benko Gambit Declined                   327\n",
       "Center Game Accepted                    310\n",
       "Scotch Gambit                           266\n",
       "Lemming Defense                         257\n",
       "Barnes Opening                          255\n",
       "Hippopotamus Defense                    239\n",
       "Lasker Simul Special                    229\n",
       "Global Opening                          228\n",
       "System                                  210\n",
       "Robatsch Defense                        203\n",
       "King's Indian                           186\n",
       "Sodium Attack                           166\n",
       "Crab Opening                            164\n",
       "Semi-Slav Defense Accepted              146\n",
       "Australian Defense                      110\n",
       "Valencia Opening                        109\n",
       "English Orangutan                       103\n",
       "Montevideo Defense                       77\n",
       "Vulture Defense                          57\n",
       "Blackmar-Diemer                          55\n",
       "Doery Defense                            43\n",
       "Zukertort Defense                        35\n",
       "Irish Gambit                             35\n",
       "Blumenfeld Countergambit Accepted        30\n",
       "Bronstein Gambit                         21\n",
       "Borg Opening                             15\n",
       "Ruy Lopez Defense                        14\n",
       "Marienbad System                         13\n",
       "English Rat                              10\n",
       "Tayler Opening                            7\n",
       "Zaire Defense                             7\n",
       "Boden-Kieseritzky Gambit                  5\n",
       "Four Knights                              4\n",
       "Amar Gambit                               2\n",
       "Veresov Opening                           1\n",
       "Venezolana Opening                        1\n",
       "Amsterdam Attack                          1\n",
       "Dresden Opening                           1\n",
       "Norwegian Defense                         1\n",
       "English Openings                          1\n",
       "Name: count, dtype: int64"
      ]
     },
     "execution_count": 20,
     "metadata": {},
     "output_type": "execute_result"
    }
   ],
   "source": [
    "df['Opening'] = df['Opening'].str.split(':').str[0].str.rstrip()\n",
    "df['Opening'] = df['Opening'].str.split(',').str[0].str.rstrip()\n",
    "df['Opening'] = df['Opening'].str.split('#').str[0].str.rstrip()\n",
    "pd.set_option('display.max_rows', None)\n",
    "df['Opening'].value_counts()"
   ]
  },
  {
   "cell_type": "code",
   "execution_count": 21,
   "id": "e6fe1d45-43f2-449a-a582-909a44a439dc",
   "metadata": {},
   "outputs": [],
   "source": [
    "pd.reset_option('display.max_rows')"
   ]
  },
  {
   "cell_type": "code",
   "execution_count": 25,
   "id": "18ad9807-a2c2-4e71-b12f-5deb29dd6900",
   "metadata": {},
   "outputs": [
    {
     "data": {
      "text/plain": [
       "Opening\n",
       "Sicilian Defense           333900\n",
       "French Defense             186077\n",
       "Queen's Pawn Game          168758\n",
       "Scandinavian Defense       122180\n",
       "King's Pawn Game           108790\n",
       "                            ...  \n",
       "Wade Defense                  427\n",
       "Creepy Crawly Formation       392\n",
       "Rubinstein Opening            349\n",
       "Benko Gambit Declined         327\n",
       "Center Game Accepted          310\n",
       "Name: count, Length: 129, dtype: int64"
      ]
     },
     "execution_count": 25,
     "metadata": {},
     "output_type": "execute_result"
    }
   ],
   "source": [
    "games_played_per = df['Opening'].value_counts()\n",
    "\n",
    "lt_300_games_played = games_played_per[games_played_per < 300].index\n",
    "\n",
    "df_filtered = df[~df['Opening'].isin(lt_300_games_played)]\n",
    "df_filtered['Opening'].value_counts()"
   ]
  },
  {
   "cell_type": "code",
   "execution_count": 26,
   "id": "30316b6e-999c-46fd-9570-b402f237640a",
   "metadata": {},
   "outputs": [
    {
     "data": {
      "text/plain": [
       "2623531"
      ]
     },
     "execution_count": 26,
     "metadata": {},
     "output_type": "execute_result"
    }
   ],
   "source": [
    "len(df)"
   ]
  },
  {
   "cell_type": "code",
   "execution_count": null,
   "id": "466f0342-277e-413e-8748-89f073840222",
   "metadata": {},
   "outputs": [],
   "source": []
  }
 ],
 "metadata": {
  "kernelspec": {
   "display_name": "Python 3 (ipykernel)",
   "language": "python",
   "name": "python3"
  },
  "language_info": {
   "codemirror_mode": {
    "name": "ipython",
    "version": 3
   },
   "file_extension": ".py",
   "mimetype": "text/x-python",
   "name": "python",
   "nbconvert_exporter": "python",
   "pygments_lexer": "ipython3",
   "version": "3.12.2"
  }
 },
 "nbformat": 4,
 "nbformat_minor": 5
}
