{
 "cells": [
  {
   "cell_type": "code",
   "execution_count": null,
   "id": "59ed79e8-a9e9-4836-90c6-0492a5f878c0",
   "metadata": {},
   "outputs": [],
   "source": [
    "import chess.pgn\n",
    "import pandas as pd\n",
    "\n",
    "# Function to read a PGN file and extract data\n",
    "def read_pgn(file_path):\n",
    "    games_data = []\n",
    "    with open(file_path) as pgn:\n",
    "        while True:\n",
    "            game = chess.pgn.read_game(pgn)\n",
    "            if game is None:\n",
    "                break\n",
    "            # Extract data from the game\n",
    "            # Example: game.headers[\"Event\"], game.mainline_moves(), etc.\n",
    "            games_data.append(extracted_data)\n",
    "    \n",
    "    return pd.DataFrame(games_data)\n",
    "\n",
    "# Path to your PGN file\n",
    "file_path = 'path_to_your_pgn_file.pgn'\n",
    "\n",
    "# Read and process the PGN file\n",
    "chess_data = read_pgn(file_path)"
   ]
  }
 ],
 "metadata": {
  "kernelspec": {
   "display_name": "Python 3 (ipykernel)",
   "language": "python",
   "name": "python3"
  },
  "language_info": {
   "codemirror_mode": {
    "name": "ipython",
    "version": 3
   },
   "file_extension": ".py",
   "mimetype": "text/x-python",
   "name": "python",
   "nbconvert_exporter": "python",
   "pygments_lexer": "ipython3",
   "version": "3.11.7"
  }
 },
 "nbformat": 4,
 "nbformat_minor": 5
}
