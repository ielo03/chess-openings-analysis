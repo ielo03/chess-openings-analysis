{
 "cells": [
  {
   "cell_type": "markdown",
   "id": "00089618-a022-40e0-afd1-7f112c1e4484",
   "metadata": {},
   "source": [
    "# Liberally remove all games with imperfect or unhelpful data"
   ]
  },
  {
   "cell_type": "code",
   "execution_count": 176,
   "id": "ad6b5a21-6c04-4c60-b4cd-c06f2e8cff2f",
   "metadata": {},
   "outputs": [],
   "source": [
    "import chess.pgn\n",
    "import chess\n",
    "import chess.engine\n",
    "import math\n",
    "import numpy\n",
    "import pandas as pd\n",
    "import os\n",
    "import pyarrow\n",
    "import logging\n",
    "import re\n",
    "\n",
    "# Configure logging\n",
    "logging.basicConfig(filename='process.log', level=logging.INFO, \n",
    "                    format='%(asctime)s - %(message)s', datefmt='%H:%M:%S')\n",
    "\n",
    "feather_path = '../lichess_db_standard_rated_2016-09.feather'\n",
    "final_path = './lichess_2016-09_valid_games.feather'\n",
    "\n",
    "engine_path = '/opt/homebrew/bin/stockfish'\n",
    "engine_depth = 10"
   ]
  },
  {
   "cell_type": "code",
   "execution_count": 84,
   "id": "959f1067-3139-4de8-ac44-036b8ba2aaa2",
   "metadata": {},
   "outputs": [],
   "source": [
    "# Easily reusable funtion for future game imports\n",
    "def delete_bad_games(delete_from_df):\n",
    "    delete_bullet(delete_from_df)\n",
    "    delete_correspondence(delete_from_df)\n",
    "    delete_abandoned(delete_from_df)\n",
    "    delete_unterminated(delete_from_df)\n",
    "    delete_time_forfeit(delete_from_df)\n",
    "    delete_rules_infraction(delete_from_df)\n",
    "    "
   ]
  },
  {
   "cell_type": "code",
   "execution_count": 173,
   "id": "863d8296-753a-4d2f-956c-40397d5e027f",
   "metadata": {},
   "outputs": [],
   "source": [
    "def delete_abandoned(delete_from_df):\n",
    "    before = len(delete_from_df)\n",
    "    abandoned_games_df = delete_from_df[delete_from_df['Termination'] == 'Abandoned']\n",
    "    delete_from_df.drop(abandoned_games_df.index, inplace=True)\n",
    "    return before - len(delete_from_df)\n",
    "\n",
    "def delete_unterminated(delete_from_df):\n",
    "    before = len(delete_from_df)\n",
    "    unterminated_games_df = delete_from_df[delete_from_df['Termination'] == 'Unterminated']\n",
    "    delete_from_df.drop(unterminated_games_df.index, inplace=True)\n",
    "    return before - len(delete_from_df)\n",
    "\n",
    "def delete_time_forfeit(delete_from_df):\n",
    "    before = len(delete_from_df)\n",
    "    time_forfeit_games_df = delete_from_df[delete_from_df['Termination'] == 'Time forfeit']\n",
    "    delete_from_df.drop(time_forfeit_games_df.index, inplace=True)\n",
    "    return before - len(delete_from_df)\n",
    "\n",
    "def get_winner(row):\n",
    "    if row['Result'] == '1-0':\n",
    "        return 1\n",
    "    elif row['Result'] == '0-1':\n",
    "        return -1\n",
    "    else:\n",
    "        return 0\n",
    "\n",
    "def get_loser_username(row):\n",
    "    if row['Result'] == '1-0':\n",
    "        return row['Black']  # Black lost\n",
    "    elif row['Result'] == '0-1':\n",
    "        return row['White']  # White lost\n",
    "    return None  # Draw or other outcome\n",
    "    \n",
    "def delete_rules_infraction(delete_from_df):\n",
    "    before = len(delete_from_df)\n",
    "    rules_infraction_games_df = delete_from_df[delete_from_df['Termination'] == 'Rules infraction']\n",
    "\n",
    "    cheaters = rules_infraction_games_df.apply(get_loser_username, axis=1)\n",
    "    cheaters = cheaters[cheaters.notna()]\n",
    "    cheater_list = cheaters.tolist()\n",
    "    games_with_cheaters_df = delete_from_df[delete_from_df['White'].isin(cheater_list) | delete_from_df['Black'].isin(cheater_list)]\n",
    "    \n",
    "    delete_from_df.drop(games_with_cheaters_df.index, inplace=True)\n",
    "    return before - len(delete_from_df)\n",
    "\n",
    "def delete_bullet(delete_from_df):\n",
    "    before = len(delete_from_df)\n",
    "    bullet_games_df = delete_from_df[delete_from_df['Event'].str.find('Bullet') != -1]\n",
    "    delete_from_df.drop(bullet_games_df.index, inplace=True)\n",
    "    return before - len(delete_from_df)\n",
    "\n",
    "def delete_blitz(delete_from_df):\n",
    "    before = len(delete_from_df)\n",
    "    blitz_games_df = delete_from_df[delete_from_df['Event'].str.find('Blitz') != -1]\n",
    "    delete_from_df.drop(blitz_games_df.index, inplace=True)\n",
    "    return before - len(delete_from_df)\n",
    "\n",
    "def delete_classic(delete_from_df):\n",
    "    before = len(delete_from_df)\n",
    "    classic_games_df = delete_from_df[delete_from_df['Event'].str.find('Classic') != -1]\n",
    "    delete_from_df.drop(classic_games_df.index, inplace=True)\n",
    "    return before - len(delete_from_df)\n",
    "\n",
    "def delete_correspondence(delete_from_df):\n",
    "    before = len(delete_from_df)\n",
    "    correspondence_games_df = delete_from_df[delete_from_df['Event'].str.find('Correspondence') != -1]\n",
    "    delete_from_df.drop(correspondence_games_df.index, inplace=True)\n",
    "    return before - len(delete_from_df)\n",
    "\n",
    "def evaluate_board(eval_game, engine):\n",
    "    moves = re.sub(r'\\$\\d+|\\{[^}]*\\}|1-0|0-1|1/2-1/2|\\+\\-', '', eval_game['Moves'])\n",
    "    game = chess.pgn.Game()\n",
    "    board = chess.Board()\n",
    "    node = game\n",
    "\n",
    "    moves = moves.split()\n",
    "\n",
    "    for move in moves:\n",
    "        if '.' not in move:\n",
    "            board_move = board.parse_san(move)\n",
    "            node = node.add_variation(board_move)\n",
    "            board.push(board_move)\n",
    "\n",
    "    return engine.analyse(board, chess.engine.Limit(depth=10))\n",
    "\n",
    "def get_score(eval_info):\n",
    "    return eval_info[\"score\"].relative.score(mate_score=100000)\n",
    "\n",
    "def get_predicted_leaver(subset_df, eval_threshold):\n",
    "    eval_threshold = -abs(eval_threshold)\n",
    "    leaver_games_idx = []\n",
    "    logging.info(f\"Starting delete predicted leaver for {len(subset_df)} games with threshold {eval_threshold}\")\n",
    "    with chess.engine.SimpleEngine.popen_uci(engine_path) as engine:\n",
    "        for index, row in subset_df.iterrows():\n",
    "            cur_info = evaluate_board(row, engine)\n",
    "            cur_score = get_score(cur_info)\n",
    "            if (cur_score > eval_threshold):\n",
    "                leaver_games_idx.append(index)\n",
    "    return leaver_games_idx\n"
   ]
  },
  {
   "cell_type": "code",
   "execution_count": null,
   "id": "b015e943-ccaf-447f-9eed-713e4572c5e1",
   "metadata": {},
   "outputs": [],
   "source": [
    "df = pd.read_feather(feather_path) if os.path.exists(feather_path) else pd.DataFrame()\n",
    "len(df)"
   ]
  },
  {
   "cell_type": "markdown",
   "id": "92e474a9-fc82-4cc4-a461-0bc6c39704b3",
   "metadata": {},
   "source": [
    "### Consider termination type"
   ]
  },
  {
   "cell_type": "code",
   "execution_count": 5,
   "id": "ec15ff15-1e81-462a-90f7-12cb04d0ba64",
   "metadata": {},
   "outputs": [
    {
     "data": {
      "text/plain": [
       "Termination\n",
       "Normal              4635102\n",
       "Time forfeit        2143022\n",
       "Abandoned             34852\n",
       "Rules infraction        132\n",
       "Unterminated              5\n",
       "Name: count, dtype: int64"
      ]
     },
     "execution_count": 5,
     "metadata": {},
     "output_type": "execute_result"
    }
   ],
   "source": [
    "df['Termination'].value_counts()"
   ]
  },
  {
   "cell_type": "markdown",
   "id": "cfd6348d-127e-4b38-ac02-c18dd2f53e16",
   "metadata": {},
   "source": [
    "#### Consider deleting abandoned games"
   ]
  },
  {
   "cell_type": "code",
   "execution_count": 6,
   "id": "1c9d5aef-9f03-490a-9ee9-118ef1511ae1",
   "metadata": {},
   "outputs": [],
   "source": [
    "abandoned_df = df[df['Termination'] == 'Abandoned']"
   ]
  },
  {
   "cell_type": "code",
   "execution_count": 7,
   "id": "89609c03-c0fc-4518-9510-e8f79ce9eabd",
   "metadata": {},
   "outputs": [
    {
     "data": {
      "text/html": [
       "<div>\n",
       "<style scoped>\n",
       "    .dataframe tbody tr th:only-of-type {\n",
       "        vertical-align: middle;\n",
       "    }\n",
       "\n",
       "    .dataframe tbody tr th {\n",
       "        vertical-align: top;\n",
       "    }\n",
       "\n",
       "    .dataframe thead th {\n",
       "        text-align: right;\n",
       "    }\n",
       "</style>\n",
       "<table border=\"1\" class=\"dataframe\">\n",
       "  <thead>\n",
       "    <tr style=\"text-align: right;\">\n",
       "      <th></th>\n",
       "      <th>Event</th>\n",
       "      <th>Site</th>\n",
       "      <th>White</th>\n",
       "      <th>Black</th>\n",
       "      <th>Result</th>\n",
       "      <th>WhiteElo</th>\n",
       "      <th>BlackElo</th>\n",
       "      <th>WhiteRatingDiff</th>\n",
       "      <th>BlackRatingDiff</th>\n",
       "      <th>ECO</th>\n",
       "      <th>Opening</th>\n",
       "      <th>TimeControl</th>\n",
       "      <th>Termination</th>\n",
       "      <th>Moves</th>\n",
       "    </tr>\n",
       "  </thead>\n",
       "  <tbody>\n",
       "    <tr>\n",
       "      <th>1</th>\n",
       "      <td>Rated Classical tournament https://lichess.org...</td>\n",
       "      <td>https://lichess.org/q3tbWY1W</td>\n",
       "      <td>Fherhuitron</td>\n",
       "      <td>Alequine</td>\n",
       "      <td>0-1</td>\n",
       "      <td>1346</td>\n",
       "      <td>1474</td>\n",
       "      <td>-25</td>\n",
       "      <td>+8</td>\n",
       "      <td>?</td>\n",
       "      <td>?</td>\n",
       "      <td>600+0</td>\n",
       "      <td>Abandoned</td>\n",
       "      <td></td>\n",
       "    </tr>\n",
       "    <tr>\n",
       "      <th>22</th>\n",
       "      <td>Rated Classical tournament https://lichess.org...</td>\n",
       "      <td>https://lichess.org/I9FzSzig</td>\n",
       "      <td>Teagy</td>\n",
       "      <td>knightowl16</td>\n",
       "      <td>1-0</td>\n",
       "      <td>1955</td>\n",
       "      <td>1937</td>\n",
       "      <td>+10</td>\n",
       "      <td>-12</td>\n",
       "      <td>B00</td>\n",
       "      <td>King's Pawn</td>\n",
       "      <td>600+0</td>\n",
       "      <td>Abandoned</td>\n",
       "      <td>1. e4</td>\n",
       "    </tr>\n",
       "    <tr>\n",
       "      <th>26</th>\n",
       "      <td>Rated Blitz tournament https://lichess.org/tou...</td>\n",
       "      <td>https://lichess.org/XHWjOWL3</td>\n",
       "      <td>elgranmanny</td>\n",
       "      <td>Ded_Ahmed</td>\n",
       "      <td>0-1</td>\n",
       "      <td>1750</td>\n",
       "      <td>1756</td>\n",
       "      <td>-11</td>\n",
       "      <td>+12</td>\n",
       "      <td>?</td>\n",
       "      <td>?</td>\n",
       "      <td>180+0</td>\n",
       "      <td>Abandoned</td>\n",
       "      <td></td>\n",
       "    </tr>\n",
       "    <tr>\n",
       "      <th>28</th>\n",
       "      <td>Rated Classical tournament https://lichess.org...</td>\n",
       "      <td>https://lichess.org/2mQSSU3s</td>\n",
       "      <td>Jorlu</td>\n",
       "      <td>fandeev</td>\n",
       "      <td>0-1</td>\n",
       "      <td>1927</td>\n",
       "      <td>1910</td>\n",
       "      <td>-13</td>\n",
       "      <td>+12</td>\n",
       "      <td>?</td>\n",
       "      <td>?</td>\n",
       "      <td>600+0</td>\n",
       "      <td>Abandoned</td>\n",
       "      <td></td>\n",
       "    </tr>\n",
       "    <tr>\n",
       "      <th>32</th>\n",
       "      <td>Rated Blitz tournament https://lichess.org/tou...</td>\n",
       "      <td>https://lichess.org/PeJIqKDh</td>\n",
       "      <td>misadr2</td>\n",
       "      <td>salarabdi</td>\n",
       "      <td>1-0</td>\n",
       "      <td>1718</td>\n",
       "      <td>1727</td>\n",
       "      <td>+12</td>\n",
       "      <td>-17</td>\n",
       "      <td>B00</td>\n",
       "      <td>King's Pawn</td>\n",
       "      <td>300+0</td>\n",
       "      <td>Abandoned</td>\n",
       "      <td>1. e4</td>\n",
       "    </tr>\n",
       "  </tbody>\n",
       "</table>\n",
       "</div>"
      ],
      "text/plain": [
       "                                                Event  \\\n",
       "1   Rated Classical tournament https://lichess.org...   \n",
       "22  Rated Classical tournament https://lichess.org...   \n",
       "26  Rated Blitz tournament https://lichess.org/tou...   \n",
       "28  Rated Classical tournament https://lichess.org...   \n",
       "32  Rated Blitz tournament https://lichess.org/tou...   \n",
       "\n",
       "                            Site        White        Black Result WhiteElo  \\\n",
       "1   https://lichess.org/q3tbWY1W  Fherhuitron     Alequine    0-1     1346   \n",
       "22  https://lichess.org/I9FzSzig        Teagy  knightowl16    1-0     1955   \n",
       "26  https://lichess.org/XHWjOWL3  elgranmanny    Ded_Ahmed    0-1     1750   \n",
       "28  https://lichess.org/2mQSSU3s        Jorlu      fandeev    0-1     1927   \n",
       "32  https://lichess.org/PeJIqKDh      misadr2    salarabdi    1-0     1718   \n",
       "\n",
       "   BlackElo WhiteRatingDiff BlackRatingDiff  ECO      Opening TimeControl  \\\n",
       "1      1474             -25              +8    ?            ?       600+0   \n",
       "22     1937             +10             -12  B00  King's Pawn       600+0   \n",
       "26     1756             -11             +12    ?            ?       180+0   \n",
       "28     1910             -13             +12    ?            ?       600+0   \n",
       "32     1727             +12             -17  B00  King's Pawn       300+0   \n",
       "\n",
       "   Termination  Moves  \n",
       "1    Abandoned         \n",
       "22   Abandoned  1. e4  \n",
       "26   Abandoned         \n",
       "28   Abandoned         \n",
       "32   Abandoned  1. e4  "
      ]
     },
     "execution_count": 7,
     "metadata": {},
     "output_type": "execute_result"
    }
   ],
   "source": [
    "abandoned_df.head()"
   ]
  },
  {
   "cell_type": "markdown",
   "id": "eec06f9b-a63c-43f5-bc12-0084836596b0",
   "metadata": {},
   "source": [
    "#### Delete abandoned games"
   ]
  },
  {
   "cell_type": "code",
   "execution_count": 8,
   "id": "12daabd2-e3c0-494f-9b68-72c20f790cdb",
   "metadata": {},
   "outputs": [
    {
     "data": {
      "text/plain": [
       "34852"
      ]
     },
     "execution_count": 8,
     "metadata": {},
     "output_type": "execute_result"
    }
   ],
   "source": [
    "delete_abandoned(df)"
   ]
  },
  {
   "cell_type": "markdown",
   "id": "6a4d9716-9bd3-4ff5-88ee-137ad70bc285",
   "metadata": {},
   "source": [
    "#### Consider deleting unterminated games"
   ]
  },
  {
   "cell_type": "code",
   "execution_count": 9,
   "id": "540a49ea-9e34-4bf0-a7a1-cbf2f70bba0b",
   "metadata": {},
   "outputs": [],
   "source": [
    "unterminated_df = df[df['Termination'] == 'Unterminated']"
   ]
  },
  {
   "cell_type": "code",
   "execution_count": 10,
   "id": "f6bc4853-c0fd-44fe-8c53-d21685550730",
   "metadata": {},
   "outputs": [
    {
     "data": {
      "text/html": [
       "<div>\n",
       "<style scoped>\n",
       "    .dataframe tbody tr th:only-of-type {\n",
       "        vertical-align: middle;\n",
       "    }\n",
       "\n",
       "    .dataframe tbody tr th {\n",
       "        vertical-align: top;\n",
       "    }\n",
       "\n",
       "    .dataframe thead th {\n",
       "        text-align: right;\n",
       "    }\n",
       "</style>\n",
       "<table border=\"1\" class=\"dataframe\">\n",
       "  <thead>\n",
       "    <tr style=\"text-align: right;\">\n",
       "      <th></th>\n",
       "      <th>Event</th>\n",
       "      <th>Site</th>\n",
       "      <th>White</th>\n",
       "      <th>Black</th>\n",
       "      <th>Result</th>\n",
       "      <th>WhiteElo</th>\n",
       "      <th>BlackElo</th>\n",
       "      <th>WhiteRatingDiff</th>\n",
       "      <th>BlackRatingDiff</th>\n",
       "      <th>ECO</th>\n",
       "      <th>Opening</th>\n",
       "      <th>TimeControl</th>\n",
       "      <th>Termination</th>\n",
       "      <th>Moves</th>\n",
       "    </tr>\n",
       "  </thead>\n",
       "  <tbody>\n",
       "    <tr>\n",
       "      <th>518570</th>\n",
       "      <td>Rated Correspondence game</td>\n",
       "      <td>https://lichess.org/NuHYVTDl</td>\n",
       "      <td>Quasselstrippe</td>\n",
       "      <td>obelisk</td>\n",
       "      <td>*</td>\n",
       "      <td>1894</td>\n",
       "      <td>1937</td>\n",
       "      <td>None</td>\n",
       "      <td>None</td>\n",
       "      <td>A20</td>\n",
       "      <td>English Opening: King's English Variation</td>\n",
       "      <td>-</td>\n",
       "      <td>Unterminated</td>\n",
       "      <td>1. c4 e5 2. g3 d6 3. Bg2 g6 4. b3 f5 5. Bb2 Bg...</td>\n",
       "    </tr>\n",
       "    <tr>\n",
       "      <th>947053</th>\n",
       "      <td>Rated Correspondence game</td>\n",
       "      <td>https://lichess.org/Mkvwinr1</td>\n",
       "      <td>cunha18</td>\n",
       "      <td>carnefrita29</td>\n",
       "      <td>*</td>\n",
       "      <td>1311</td>\n",
       "      <td>1885</td>\n",
       "      <td>None</td>\n",
       "      <td>None</td>\n",
       "      <td>B20</td>\n",
       "      <td>Sicilian Defense: Staunton-Cochrane Variation</td>\n",
       "      <td>-</td>\n",
       "      <td>Unterminated</td>\n",
       "      <td>1. e4 c5 2. c4 Nc6 3. Nc3 e5 4. Nf3 d6 5. d3 g...</td>\n",
       "    </tr>\n",
       "    <tr>\n",
       "      <th>1605273</th>\n",
       "      <td>Rated Correspondence game</td>\n",
       "      <td>https://lichess.org/hUaPi7zA</td>\n",
       "      <td>Rikzz</td>\n",
       "      <td>bon-jovi</td>\n",
       "      <td>*</td>\n",
       "      <td>2002</td>\n",
       "      <td>1981</td>\n",
       "      <td>None</td>\n",
       "      <td>None</td>\n",
       "      <td>B06</td>\n",
       "      <td>Robatsch (Modern) Defense</td>\n",
       "      <td>-</td>\n",
       "      <td>Unterminated</td>\n",
       "      <td>1. e4 g6 2. d4 Bg7 3. c3 d6 4. Bc4 Nf6 5. Qc2 ...</td>\n",
       "    </tr>\n",
       "  </tbody>\n",
       "</table>\n",
       "</div>"
      ],
      "text/plain": [
       "                             Event                          Site  \\\n",
       "518570   Rated Correspondence game  https://lichess.org/NuHYVTDl   \n",
       "947053   Rated Correspondence game  https://lichess.org/Mkvwinr1   \n",
       "1605273  Rated Correspondence game  https://lichess.org/hUaPi7zA   \n",
       "\n",
       "                  White         Black Result WhiteElo BlackElo  \\\n",
       "518570   Quasselstrippe       obelisk      *     1894     1937   \n",
       "947053          cunha18  carnefrita29      *     1311     1885   \n",
       "1605273           Rikzz      bon-jovi      *     2002     1981   \n",
       "\n",
       "        WhiteRatingDiff BlackRatingDiff  ECO  \\\n",
       "518570             None            None  A20   \n",
       "947053             None            None  B20   \n",
       "1605273            None            None  B06   \n",
       "\n",
       "                                               Opening TimeControl  \\\n",
       "518570       English Opening: King's English Variation           -   \n",
       "947053   Sicilian Defense: Staunton-Cochrane Variation           -   \n",
       "1605273                      Robatsch (Modern) Defense           -   \n",
       "\n",
       "          Termination                                              Moves  \n",
       "518570   Unterminated  1. c4 e5 2. g3 d6 3. Bg2 g6 4. b3 f5 5. Bb2 Bg...  \n",
       "947053   Unterminated  1. e4 c5 2. c4 Nc6 3. Nc3 e5 4. Nf3 d6 5. d3 g...  \n",
       "1605273  Unterminated  1. e4 g6 2. d4 Bg7 3. c3 d6 4. Bc4 Nf6 5. Qc2 ...  "
      ]
     },
     "execution_count": 10,
     "metadata": {},
     "output_type": "execute_result"
    }
   ],
   "source": [
    "unterminated_df[:3]"
   ]
  },
  {
   "cell_type": "code",
   "execution_count": 11,
   "id": "69c7b788-3ff4-401c-9c28-ab94d0b47b24",
   "metadata": {},
   "outputs": [
    {
     "data": {
      "text/plain": [
       "Event\n",
       "Rated Correspondence game    5\n",
       "Name: count, dtype: int64"
      ]
     },
     "execution_count": 11,
     "metadata": {},
     "output_type": "execute_result"
    }
   ],
   "source": [
    "unterminated_df['Event'].value_counts()"
   ]
  },
  {
   "cell_type": "markdown",
   "id": "26bcbda9-3de0-4f4e-8320-9391c9f06401",
   "metadata": {},
   "source": [
    "#### Delete unterminated games"
   ]
  },
  {
   "cell_type": "code",
   "execution_count": 12,
   "id": "27572c43-913f-4358-a63b-13478941359b",
   "metadata": {},
   "outputs": [
    {
     "data": {
      "text/plain": [
       "5"
      ]
     },
     "execution_count": 12,
     "metadata": {},
     "output_type": "execute_result"
    }
   ],
   "source": [
    "delete_unterminated(df)"
   ]
  },
  {
   "cell_type": "markdown",
   "id": "4931b138-8c5d-4028-a274-57e3e50f1f38",
   "metadata": {},
   "source": [
    "#### Consider deleting rules infraction games"
   ]
  },
  {
   "cell_type": "code",
   "execution_count": 13,
   "id": "f68d7b1f-64d6-4d4c-b62e-faeb8d8086c2",
   "metadata": {},
   "outputs": [],
   "source": [
    "rules_infraction_df = df[df['Termination'] == 'Rules infraction']"
   ]
  },
  {
   "cell_type": "code",
   "execution_count": 14,
   "id": "6286429f-04ee-460a-9efb-cbd41ae606f3",
   "metadata": {},
   "outputs": [
    {
     "data": {
      "text/html": [
       "<div>\n",
       "<style scoped>\n",
       "    .dataframe tbody tr th:only-of-type {\n",
       "        vertical-align: middle;\n",
       "    }\n",
       "\n",
       "    .dataframe tbody tr th {\n",
       "        vertical-align: top;\n",
       "    }\n",
       "\n",
       "    .dataframe thead th {\n",
       "        text-align: right;\n",
       "    }\n",
       "</style>\n",
       "<table border=\"1\" class=\"dataframe\">\n",
       "  <thead>\n",
       "    <tr style=\"text-align: right;\">\n",
       "      <th></th>\n",
       "      <th>Event</th>\n",
       "      <th>Site</th>\n",
       "      <th>White</th>\n",
       "      <th>Black</th>\n",
       "      <th>Result</th>\n",
       "      <th>WhiteElo</th>\n",
       "      <th>BlackElo</th>\n",
       "      <th>WhiteRatingDiff</th>\n",
       "      <th>BlackRatingDiff</th>\n",
       "      <th>ECO</th>\n",
       "      <th>Opening</th>\n",
       "      <th>TimeControl</th>\n",
       "      <th>Termination</th>\n",
       "      <th>Moves</th>\n",
       "    </tr>\n",
       "  </thead>\n",
       "  <tbody>\n",
       "    <tr>\n",
       "      <th>21983</th>\n",
       "      <td>Rated Blitz game</td>\n",
       "      <td>https://lichess.org/HTFLtODp</td>\n",
       "      <td>naotomate</td>\n",
       "      <td>G4lvezLuciano</td>\n",
       "      <td>1-0</td>\n",
       "      <td>1621</td>\n",
       "      <td>1564</td>\n",
       "      <td>+9</td>\n",
       "      <td>-11</td>\n",
       "      <td>D51</td>\n",
       "      <td>Queen's Gambit Declined: Modern, Knight Defens...</td>\n",
       "      <td>180+0</td>\n",
       "      <td>Rules infraction</td>\n",
       "      <td>1. d4 Nf6 2. c4 e6 3. Nc3 d5 4. Bg5 Nbd7 5. e3 h6</td>\n",
       "    </tr>\n",
       "    <tr>\n",
       "      <th>22156</th>\n",
       "      <td>Rated Blitz game</td>\n",
       "      <td>https://lichess.org/EtthZozB</td>\n",
       "      <td>GrofodHadzica</td>\n",
       "      <td>G4lvezLuciano</td>\n",
       "      <td>1-0</td>\n",
       "      <td>1658</td>\n",
       "      <td>1553</td>\n",
       "      <td>+11</td>\n",
       "      <td>-9</td>\n",
       "      <td>C42</td>\n",
       "      <td>Russian Game: Urusov Gambit</td>\n",
       "      <td>300+0</td>\n",
       "      <td>Rules infraction</td>\n",
       "      <td>1. e4 e5 2. Nf3 Nf6 3. Bc4 Nxe4 4. Nxe5 d5 5. ...</td>\n",
       "    </tr>\n",
       "    <tr>\n",
       "      <th>63994</th>\n",
       "      <td>Rated Classical game</td>\n",
       "      <td>https://lichess.org/y6vJXofx</td>\n",
       "      <td>bulychev691</td>\n",
       "      <td>TuxTux1</td>\n",
       "      <td>1-0</td>\n",
       "      <td>1771</td>\n",
       "      <td>1741</td>\n",
       "      <td>+9</td>\n",
       "      <td>-88</td>\n",
       "      <td>C84</td>\n",
       "      <td>Ruy Lopez: Closed Variations</td>\n",
       "      <td>600+10</td>\n",
       "      <td>Rules infraction</td>\n",
       "      <td>1. e4 e5 2. Nf3 Nc6 3. Bb5 a6 4. Ba4 Nf6 5. O-...</td>\n",
       "    </tr>\n",
       "  </tbody>\n",
       "</table>\n",
       "</div>"
      ],
      "text/plain": [
       "                      Event                          Site          White  \\\n",
       "21983      Rated Blitz game  https://lichess.org/HTFLtODp      naotomate   \n",
       "22156      Rated Blitz game  https://lichess.org/EtthZozB  GrofodHadzica   \n",
       "63994  Rated Classical game  https://lichess.org/y6vJXofx    bulychev691   \n",
       "\n",
       "               Black Result WhiteElo BlackElo WhiteRatingDiff BlackRatingDiff  \\\n",
       "21983  G4lvezLuciano    1-0     1621     1564              +9             -11   \n",
       "22156  G4lvezLuciano    1-0     1658     1553             +11              -9   \n",
       "63994        TuxTux1    1-0     1771     1741              +9             -88   \n",
       "\n",
       "       ECO                                            Opening TimeControl  \\\n",
       "21983  D51  Queen's Gambit Declined: Modern, Knight Defens...       180+0   \n",
       "22156  C42                        Russian Game: Urusov Gambit       300+0   \n",
       "63994  C84                       Ruy Lopez: Closed Variations      600+10   \n",
       "\n",
       "            Termination                                              Moves  \n",
       "21983  Rules infraction  1. d4 Nf6 2. c4 e6 3. Nc3 d5 4. Bg5 Nbd7 5. e3 h6  \n",
       "22156  Rules infraction  1. e4 e5 2. Nf3 Nf6 3. Bc4 Nxe4 4. Nxe5 d5 5. ...  \n",
       "63994  Rules infraction  1. e4 e5 2. Nf3 Nc6 3. Bb5 a6 4. Ba4 Nf6 5. O-...  "
      ]
     },
     "execution_count": 14,
     "metadata": {},
     "output_type": "execute_result"
    }
   ],
   "source": [
    "rules_infraction_df[:3]"
   ]
  },
  {
   "cell_type": "markdown",
   "id": "7747f7b9-ed3f-4c97-88c9-9218f5356ee1",
   "metadata": {},
   "source": [
    "#### On the website it says cheating was detected for each game\n",
    "#### Delete rules infraction games and games including the offending players"
   ]
  },
  {
   "cell_type": "code",
   "execution_count": 15,
   "id": "ed2835de-039c-43e5-a3f6-bcbd215251b1",
   "metadata": {},
   "outputs": [
    {
     "data": {
      "text/plain": [
       "8725"
      ]
     },
     "execution_count": 15,
     "metadata": {},
     "output_type": "execute_result"
    }
   ],
   "source": [
    "delete_rules_infraction(df)"
   ]
  },
  {
   "cell_type": "markdown",
   "id": "e8277791-9a55-4806-8d90-af88316af522",
   "metadata": {},
   "source": [
    "### Focus on blitz and classic/rapid\n",
    "#### Delete bullet and correspondence games"
   ]
  },
  {
   "cell_type": "code",
   "execution_count": 35,
   "id": "ac9bbf46-ba04-41f4-9f64-3a1caf569c59",
   "metadata": {},
   "outputs": [
    {
     "name": "stdout",
     "output_type": "stream",
     "text": [
      "1855459\n",
      "3080600\n",
      "1808263\n",
      "25209\n",
      "6769531\n"
     ]
    }
   ],
   "source": [
    "bullet_df = df[df['Event'].str.find('Bullet') != -1]\n",
    "blitz_df = df[df['Event'].str.find('Blitz') != -1]\n",
    "classic_df = df[df['Event'].str.find('Classic') != -1]\n",
    "correspondence_df = df[df['Event'].str.find('Correspondence') != -1]\n",
    "print(len(bullet_df))\n",
    "print(len(blitz_df))\n",
    "print(len(classic_df))\n",
    "print(len(correspondence_df))\n",
    "print(len(bullet_df) + len(blitz_df) + len(classic_df) + len(correspondence_df))"
   ]
  },
  {
   "cell_type": "code",
   "execution_count": 41,
   "id": "f5c177e6-18db-4081-8875-bbe5111d03ff",
   "metadata": {},
   "outputs": [
    {
     "data": {
      "text/plain": [
       "1855459"
      ]
     },
     "execution_count": 41,
     "metadata": {},
     "output_type": "execute_result"
    }
   ],
   "source": [
    "delete_bullet(df)"
   ]
  },
  {
   "cell_type": "code",
   "execution_count": 42,
   "id": "1aed7e4a-1464-4ff9-850c-f3ce4f99dccd",
   "metadata": {},
   "outputs": [
    {
     "data": {
      "text/plain": [
       "25209"
      ]
     },
     "execution_count": 42,
     "metadata": {},
     "output_type": "execute_result"
    }
   ],
   "source": [
    "delete_correspondence(df)"
   ]
  },
  {
   "cell_type": "code",
   "execution_count": 43,
   "id": "2d9215ab-e624-4c33-a6e8-f91627091e6d",
   "metadata": {},
   "outputs": [
    {
     "data": {
      "text/plain": [
       "4888863"
      ]
     },
     "execution_count": 43,
     "metadata": {},
     "output_type": "execute_result"
    }
   ],
   "source": [
    "len(df)"
   ]
  },
  {
   "cell_type": "markdown",
   "id": "84d2212e-8498-4ca3-88f3-e0eb277a505f",
   "metadata": {},
   "source": [
    "#### Consider deleting games where players likely left"
   ]
  },
  {
   "cell_type": "code",
   "execution_count": 44,
   "id": "7c933f08-0f18-4323-9784-8cd9e971b1d0",
   "metadata": {},
   "outputs": [],
   "source": [
    "time_forfeit_df = df[df['Termination'] == 'Time forfeit']"
   ]
  },
  {
   "cell_type": "code",
   "execution_count": 151,
   "id": "81511367-ef5c-4b95-a0e1-1d80e37d7279",
   "metadata": {},
   "outputs": [
    {
     "data": {
      "text/html": [
       "<div>\n",
       "<style scoped>\n",
       "    .dataframe tbody tr th:only-of-type {\n",
       "        vertical-align: middle;\n",
       "    }\n",
       "\n",
       "    .dataframe tbody tr th {\n",
       "        vertical-align: top;\n",
       "    }\n",
       "\n",
       "    .dataframe thead th {\n",
       "        text-align: right;\n",
       "    }\n",
       "</style>\n",
       "<table border=\"1\" class=\"dataframe\">\n",
       "  <thead>\n",
       "    <tr style=\"text-align: right;\">\n",
       "      <th></th>\n",
       "      <th>Event</th>\n",
       "      <th>Site</th>\n",
       "      <th>White</th>\n",
       "      <th>Black</th>\n",
       "      <th>Result</th>\n",
       "      <th>...</th>\n",
       "      <th>ECO</th>\n",
       "      <th>Opening</th>\n",
       "      <th>TimeControl</th>\n",
       "      <th>Termination</th>\n",
       "      <th>Moves</th>\n",
       "    </tr>\n",
       "  </thead>\n",
       "  <tbody>\n",
       "    <tr>\n",
       "      <th>309</th>\n",
       "      <td>Rated Blitz game</td>\n",
       "      <td>https://lichess.org/lRe3VtJC</td>\n",
       "      <td>Flopcorn</td>\n",
       "      <td>eliel_123</td>\n",
       "      <td>1-0</td>\n",
       "      <td>...</td>\n",
       "      <td>B90</td>\n",
       "      <td>Sicilian Defense: Najdorf Variation, Adams Attack</td>\n",
       "      <td>420+0</td>\n",
       "      <td>Time forfeit</td>\n",
       "      <td>1. e4 c5 2. Nf3 d6 3. d4 cxd4 4. Nxd4 Nf6 5. N...</td>\n",
       "    </tr>\n",
       "    <tr>\n",
       "      <th>563</th>\n",
       "      <td>Rated Classical game</td>\n",
       "      <td>https://lichess.org/Bh2z5c1N</td>\n",
       "      <td>Nico_Vera</td>\n",
       "      <td>TerahMet</td>\n",
       "      <td>1-0</td>\n",
       "      <td>...</td>\n",
       "      <td>C50</td>\n",
       "      <td>Giuoco Piano</td>\n",
       "      <td>1800+0</td>\n",
       "      <td>Time forfeit</td>\n",
       "      <td>1. e4 e5 2. Nf3 Nc6 3. Bc4 Bc5 4. Nc3 Nd4 5. N...</td>\n",
       "    </tr>\n",
       "    <tr>\n",
       "      <th>1285</th>\n",
       "      <td>Rated Blitz game</td>\n",
       "      <td>https://lichess.org/SfAEkx6Y</td>\n",
       "      <td>fou-roi</td>\n",
       "      <td>cetin78</td>\n",
       "      <td>1/2-1/2</td>\n",
       "      <td>...</td>\n",
       "      <td>A25</td>\n",
       "      <td>English Opening: King's English Variation, Rev...</td>\n",
       "      <td>300+0</td>\n",
       "      <td>Time forfeit</td>\n",
       "      <td>1. c4 e5 2. Nc3 Nc6 3. g3 Bb4 4. Bg2 Na5 5. d3 d6</td>\n",
       "    </tr>\n",
       "    <tr>\n",
       "      <th>2144</th>\n",
       "      <td>Rated Blitz game</td>\n",
       "      <td>https://lichess.org/0XqRbB4K</td>\n",
       "      <td>Mwansa12472684</td>\n",
       "      <td>tanjawi1000</td>\n",
       "      <td>0-1</td>\n",
       "      <td>...</td>\n",
       "      <td>B00</td>\n",
       "      <td>Ware Defense</td>\n",
       "      <td>300+0</td>\n",
       "      <td>Time forfeit</td>\n",
       "      <td>1. e4 a5 2. Bc4 e6 3. Nf3 Nf6 4. e5 Ne4 5. d4 ...</td>\n",
       "    </tr>\n",
       "    <tr>\n",
       "      <th>2350</th>\n",
       "      <td>Rated Blitz game</td>\n",
       "      <td>https://lichess.org/jxtEACVU</td>\n",
       "      <td>portakal0001</td>\n",
       "      <td>tarkan01</td>\n",
       "      <td>0-1</td>\n",
       "      <td>...</td>\n",
       "      <td>C20</td>\n",
       "      <td>Bishop's Opening: Boi Variation</td>\n",
       "      <td>300+0</td>\n",
       "      <td>Time forfeit</td>\n",
       "      <td>1. e4 e5 2. Bc4 Bc5 3. Nf3 c6 4. Nxe5 b5</td>\n",
       "    </tr>\n",
       "  </tbody>\n",
       "</table>\n",
       "<p>5 rows × 14 columns</p>\n",
       "</div>"
      ],
      "text/plain": [
       "                     Event                          Site           White  \\\n",
       "309       Rated Blitz game  https://lichess.org/lRe3VtJC        Flopcorn   \n",
       "563   Rated Classical game  https://lichess.org/Bh2z5c1N       Nico_Vera   \n",
       "1285      Rated Blitz game  https://lichess.org/SfAEkx6Y         fou-roi   \n",
       "2144      Rated Blitz game  https://lichess.org/0XqRbB4K  Mwansa12472684   \n",
       "2350      Rated Blitz game  https://lichess.org/jxtEACVU    portakal0001   \n",
       "\n",
       "            Black   Result  ...  ECO  \\\n",
       "309     eliel_123      1-0  ...  B90   \n",
       "563      TerahMet      1-0  ...  C50   \n",
       "1285      cetin78  1/2-1/2  ...  A25   \n",
       "2144  tanjawi1000      0-1  ...  B00   \n",
       "2350     tarkan01      0-1  ...  C20   \n",
       "\n",
       "                                                Opening TimeControl  \\\n",
       "309   Sicilian Defense: Najdorf Variation, Adams Attack       420+0   \n",
       "563                                        Giuoco Piano      1800+0   \n",
       "1285  English Opening: King's English Variation, Rev...       300+0   \n",
       "2144                                       Ware Defense       300+0   \n",
       "2350                    Bishop's Opening: Boi Variation       300+0   \n",
       "\n",
       "       Termination                                              Moves  \n",
       "309   Time forfeit  1. e4 c5 2. Nf3 d6 3. d4 cxd4 4. Nxd4 Nf6 5. N...  \n",
       "563   Time forfeit  1. e4 e5 2. Nf3 Nc6 3. Bc4 Bc5 4. Nc3 Nd4 5. N...  \n",
       "1285  Time forfeit  1. c4 e5 2. Nc3 Nc6 3. g3 Bb4 4. Bg2 Na5 5. d3 d6  \n",
       "2144  Time forfeit  1. e4 a5 2. Bc4 e6 3. Nf3 Nf6 4. e5 Ne4 5. d4 ...  \n",
       "2350  Time forfeit           1. e4 e5 2. Bc4 Bc5 3. Nf3 c6 4. Nxe5 b5  \n",
       "\n",
       "[5 rows x 14 columns]"
      ]
     },
     "execution_count": 151,
     "metadata": {},
     "output_type": "execute_result"
    }
   ],
   "source": [
    "time_forfeit_df[(time_forfeit_df['Moves'].str.find('7.') == -1) & (time_forfeit_df['Moves'].str.find('4.') != -1)].head()"
   ]
  },
  {
   "cell_type": "code",
   "execution_count": 59,
   "id": "b30d7cfb-8bf8-4623-b346-14d451384116",
   "metadata": {},
   "outputs": [
    {
     "data": {
      "text/plain": [
       "31249"
      ]
     },
     "execution_count": 59,
     "metadata": {},
     "output_type": "execute_result"
    }
   ],
   "source": [
    "games_u6_df = time_forfeit_df[(time_forfeit_df['Moves'].str.find('6.') == -1)]\n",
    "len(games_u6_df)"
   ]
  },
  {
   "cell_type": "markdown",
   "id": "c3daecdb-539e-48e4-9dc0-764449c4ea4d",
   "metadata": {},
   "source": [
    "#### Games where players timed out with less than 6 moves are very likely leaver games, we can just delete them"
   ]
  },
  {
   "cell_type": "code",
   "execution_count": 67,
   "id": "9d7b56eb-1896-4619-a38a-81bbf7b57597",
   "metadata": {},
   "outputs": [
    {
     "data": {
      "text/plain": [
       "24635"
      ]
     },
     "execution_count": 67,
     "metadata": {},
     "output_type": "execute_result"
    }
   ],
   "source": [
    "games_u10_6a_df = time_forfeit_df[(time_forfeit_df['Moves'].str.find('10.') == -1) & (time_forfeit_df['Moves'].str.find('6.') != -1)]\n",
    "len(games_u10_6a_df)"
   ]
  },
  {
   "cell_type": "markdown",
   "id": "f5a85997-7eee-410b-bbde-68a5f3fbde50",
   "metadata": {},
   "source": [
    "#### Games with less than 10 moves are likely as well, but now we must be cautious of someone letting their time run out because they are in a losing position\n",
    "#### We must use an engine to see if the loser was in a losing position when they timed out"
   ]
  },
  {
   "cell_type": "code",
   "execution_count": 163,
   "id": "4ec64ebd-b729-4e1a-97ad-0d0c77c2c799",
   "metadata": {},
   "outputs": [
    {
     "data": {
      "text/plain": [
       "17894"
      ]
     },
     "execution_count": 163,
     "metadata": {},
     "output_type": "execute_result"
    }
   ],
   "source": [
    "u10_6a_leavers_idx = get_predicted_leaver(games_u10_6a_df, -250)\n",
    "len(u10_6a_leavers_idx)"
   ]
  },
  {
   "cell_type": "markdown",
   "id": "424ffbbc-e157-4be0-97c1-1571d6fb9906",
   "metadata": {},
   "source": [
    "#### Compare % of timed out games from leaving at 6-9 moves vs 10-12 moves"
   ]
  },
  {
   "cell_type": "code",
   "execution_count": 158,
   "id": "375954ad-686a-49b6-b70b-ce31188d3bb4",
   "metadata": {},
   "outputs": [
    {
     "data": {
      "text/plain": [
       "23626"
      ]
     },
     "execution_count": 158,
     "metadata": {},
     "output_type": "execute_result"
    }
   ],
   "source": [
    "games_u13_10a_df = time_forfeit_df[(time_forfeit_df['Moves'].str.find('13.') == -1) & (time_forfeit_df['Moves'].str.find('10.') != -1)]\n",
    "len(games_u13_10a_df)"
   ]
  },
  {
   "cell_type": "code",
   "execution_count": 162,
   "id": "6b2ab150-a7b0-4ef7-ae48-8378014251ac",
   "metadata": {},
   "outputs": [
    {
     "data": {
      "text/plain": [
       "14361"
      ]
     },
     "execution_count": 162,
     "metadata": {},
     "output_type": "execute_result"
    }
   ],
   "source": [
    "u13_10a_leavers_idx = get_predicted_leaver(games_u13_10a_df, -250)\n",
    "len(u13_10a_leavers_idx)"
   ]
  },
  {
   "cell_type": "markdown",
   "id": "8afcd1c6-785a-44a8-a939-2fce8a8c480e",
   "metadata": {},
   "source": [
    "#### Still a similar %, so we should go a little higher, up to the point where we can assume they were flagged vs leaving or rage quitting"
   ]
  },
  {
   "cell_type": "code",
   "execution_count": 160,
   "id": "7e134e78-f69c-4a3e-96ed-a162aceedb42",
   "metadata": {},
   "outputs": [
    {
     "data": {
      "text/plain": [
       "28346"
      ]
     },
     "execution_count": 160,
     "metadata": {},
     "output_type": "execute_result"
    }
   ],
   "source": [
    "games_u16_13a_df = time_forfeit_df[(time_forfeit_df['Moves'].str.find('16.') == -1) & (time_forfeit_df['Moves'].str.find('13.') != -1)]\n",
    "len(games_u16_13a_df)"
   ]
  },
  {
   "cell_type": "code",
   "execution_count": 164,
   "id": "24c39fe6-fd86-4fd8-81da-141cac18a77a",
   "metadata": {},
   "outputs": [
    {
     "data": {
      "text/plain": [
       "14361"
      ]
     },
     "execution_count": 164,
     "metadata": {},
     "output_type": "execute_result"
    }
   ],
   "source": [
    "u16_13a_leavers_idx = get_predicted_leaver(games_u13_10a_df, -250)\n",
    "len(u16_13a_leavers_idx)"
   ]
  },
  {
   "cell_type": "markdown",
   "id": "65eb44ba-fb78-4724-b54e-f886b9e83217",
   "metadata": {},
   "source": [
    "#### These games continue to have high leaver rates, and time complexity for finding and deleting them is very high\n",
    "#### Let's just delete all time forfeit games and get more data from the database if we need more games instead"
   ]
  },
  {
   "cell_type": "code",
   "execution_count": 174,
   "id": "c1d955e2-ecdf-44ca-8e4d-e88bd45a8d8c",
   "metadata": {},
   "outputs": [
    {
     "data": {
      "text/plain": [
       "1144559"
      ]
     },
     "execution_count": 174,
     "metadata": {},
     "output_type": "execute_result"
    }
   ],
   "source": [
    "delete_time_forfeit(df)"
   ]
  },
  {
   "cell_type": "code",
   "execution_count": 175,
   "id": "a3f5be1b-b880-4cb3-91c5-2a39f202ae79",
   "metadata": {},
   "outputs": [
    {
     "data": {
      "text/plain": [
       "3744304"
      ]
     },
     "execution_count": 175,
     "metadata": {},
     "output_type": "execute_result"
    }
   ],
   "source": [
    "len(df)"
   ]
  },
  {
   "cell_type": "code",
   "execution_count": 177,
   "id": "0709b603-1573-4dd0-a0ef-4956356edc8c",
   "metadata": {},
   "outputs": [],
   "source": [
    "df.to_feather(final_path)"
   ]
  },
  {
   "cell_type": "code",
   "execution_count": null,
   "id": "59e57913-c9b8-4a7c-8b6c-f61d1bcb78b7",
   "metadata": {},
   "outputs": [],
   "source": []
  }
 ],
 "metadata": {
  "kernelspec": {
   "display_name": "Python 3 (ipykernel)",
   "language": "python",
   "name": "python3"
  },
  "language_info": {
   "codemirror_mode": {
    "name": "ipython",
    "version": 3
   },
   "file_extension": ".py",
   "mimetype": "text/x-python",
   "name": "python",
   "nbconvert_exporter": "python",
   "pygments_lexer": "ipython3",
   "version": "3.12.2"
  }
 },
 "nbformat": 4,
 "nbformat_minor": 5
}
