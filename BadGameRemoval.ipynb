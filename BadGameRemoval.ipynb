{
 "cells": [
  {
   "cell_type": "markdown",
   "id": "00089618-a022-40e0-afd1-7f112c1e4484",
   "metadata": {},
   "source": [
    "# Liberally remove all games with imperfect data"
   ]
  },
  {
   "cell_type": "code",
   "execution_count": 1,
   "id": "ad6b5a21-6c04-4c60-b4cd-c06f2e8cff2f",
   "metadata": {},
   "outputs": [],
   "source": [
    "import chess.pgn\n",
    "import math\n",
    "import numpy\n",
    "import pandas as pd\n",
    "import os\n",
    "import pyarrow\n",
    "\n",
    "feather_path = '../lichess_db_standard_rated_2016-09.feather'"
   ]
  },
  {
   "cell_type": "code",
   "execution_count": 24,
   "id": "959f1067-3139-4de8-ac44-036b8ba2aaa2",
   "metadata": {},
   "outputs": [],
   "source": [
    "# Easily reusable funtion for future game imports\n",
    "def delete_bad_games(delete_from_df):\n",
    "    delete_abandoned(delete_from_df)\n",
    "    delete_unterminated(delete_from_df)\n",
    "    delete_rules_infraction(delete_from_df)"
   ]
  },
  {
   "cell_type": "code",
   "execution_count": 23,
   "id": "863d8296-753a-4d2f-956c-40397d5e027f",
   "metadata": {},
   "outputs": [],
   "source": [
    "def delete_abandoned(delete_from_df):\n",
    "    before = len(delete_from_df)\n",
    "    abandoned_games_df = delete_from_df[delete_from_df['Termination'] == 'Abandoned']\n",
    "    delete_from_df.drop(abandoned_games_df.index, inplace=True)\n",
    "    return before - len(delete_from_df)\n",
    "\n",
    "def delete_unterminated(delete_from_df):\n",
    "    before = len(delete_from_df)\n",
    "    unterminated_games_df = delete_from_df[delete_from_df['Termination'] == 'Unterminated']\n",
    "    delete_from_df.drop(unterminated_games_df.index, inplace=True)\n",
    "    return before - len(delete_from_df)\n",
    "\n",
    "def delete_rules_infraction(delete_from_df):\n",
    "    before = len(delete_from_df)\n",
    "    rules_infraction_games_df = delete_from_df[delete_from_df['Termination'] == 'Rules infraction']\n",
    "    delete_from_df.drop(rules_infraction_games_df.index, inplace=True)\n",
    "    return before - len(delete_from_df)"
   ]
  },
  {
   "cell_type": "code",
   "execution_count": 2,
   "id": "b015e943-ccaf-447f-9eed-713e4572c5e1",
   "metadata": {},
   "outputs": [
    {
     "data": {
      "text/plain": [
       "6813113"
      ]
     },
     "execution_count": 2,
     "metadata": {},
     "output_type": "execute_result"
    }
   ],
   "source": [
    "df = pd.read_feather(feather_path) if os.path.exists(feather_path) else pd.DataFrame()\n",
    "len(df)"
   ]
  },
  {
   "cell_type": "markdown",
   "id": "92e474a9-fc82-4cc4-a461-0bc6c39704b3",
   "metadata": {},
   "source": [
    "### Consider termination type"
   ]
  },
  {
   "cell_type": "code",
   "execution_count": 3,
   "id": "ec15ff15-1e81-462a-90f7-12cb04d0ba64",
   "metadata": {},
   "outputs": [
    {
     "data": {
      "text/plain": [
       "Termination\n",
       "Normal              4635102\n",
       "Time forfeit        2143022\n",
       "Abandoned             34852\n",
       "Rules infraction        132\n",
       "Unterminated              5\n",
       "Name: count, dtype: int64"
      ]
     },
     "execution_count": 3,
     "metadata": {},
     "output_type": "execute_result"
    }
   ],
   "source": [
    "df['Termination'].value_counts()"
   ]
  },
  {
   "cell_type": "markdown",
   "id": "cfd6348d-127e-4b38-ac02-c18dd2f53e16",
   "metadata": {},
   "source": [
    "#### Consider deleting abandoned games"
   ]
  },
  {
   "cell_type": "code",
   "execution_count": 5,
   "id": "1c9d5aef-9f03-490a-9ee9-118ef1511ae1",
   "metadata": {},
   "outputs": [],
   "source": [
    "abandoned_df = df[df['Termination'] == 'Abandoned']"
   ]
  },
  {
   "cell_type": "code",
   "execution_count": 7,
   "id": "89609c03-c0fc-4518-9510-e8f79ce9eabd",
   "metadata": {},
   "outputs": [
    {
     "data": {
      "text/html": [
       "<div>\n",
       "<style scoped>\n",
       "    .dataframe tbody tr th:only-of-type {\n",
       "        vertical-align: middle;\n",
       "    }\n",
       "\n",
       "    .dataframe tbody tr th {\n",
       "        vertical-align: top;\n",
       "    }\n",
       "\n",
       "    .dataframe thead th {\n",
       "        text-align: right;\n",
       "    }\n",
       "</style>\n",
       "<table border=\"1\" class=\"dataframe\">\n",
       "  <thead>\n",
       "    <tr style=\"text-align: right;\">\n",
       "      <th></th>\n",
       "      <th>Event</th>\n",
       "      <th>Site</th>\n",
       "      <th>White</th>\n",
       "      <th>Black</th>\n",
       "      <th>Result</th>\n",
       "      <th>WhiteElo</th>\n",
       "      <th>BlackElo</th>\n",
       "      <th>WhiteRatingDiff</th>\n",
       "      <th>BlackRatingDiff</th>\n",
       "      <th>ECO</th>\n",
       "      <th>Opening</th>\n",
       "      <th>TimeControl</th>\n",
       "      <th>Termination</th>\n",
       "      <th>Moves</th>\n",
       "    </tr>\n",
       "  </thead>\n",
       "  <tbody>\n",
       "    <tr>\n",
       "      <th>1</th>\n",
       "      <td>Rated Classical tournament https://lichess.org...</td>\n",
       "      <td>https://lichess.org/q3tbWY1W</td>\n",
       "      <td>Fherhuitron</td>\n",
       "      <td>Alequine</td>\n",
       "      <td>0-1</td>\n",
       "      <td>1346</td>\n",
       "      <td>1474</td>\n",
       "      <td>-25</td>\n",
       "      <td>+8</td>\n",
       "      <td>?</td>\n",
       "      <td>?</td>\n",
       "      <td>600+0</td>\n",
       "      <td>Abandoned</td>\n",
       "      <td></td>\n",
       "    </tr>\n",
       "    <tr>\n",
       "      <th>22</th>\n",
       "      <td>Rated Classical tournament https://lichess.org...</td>\n",
       "      <td>https://lichess.org/I9FzSzig</td>\n",
       "      <td>Teagy</td>\n",
       "      <td>knightowl16</td>\n",
       "      <td>1-0</td>\n",
       "      <td>1955</td>\n",
       "      <td>1937</td>\n",
       "      <td>+10</td>\n",
       "      <td>-12</td>\n",
       "      <td>B00</td>\n",
       "      <td>King's Pawn</td>\n",
       "      <td>600+0</td>\n",
       "      <td>Abandoned</td>\n",
       "      <td>1. e4</td>\n",
       "    </tr>\n",
       "    <tr>\n",
       "      <th>26</th>\n",
       "      <td>Rated Blitz tournament https://lichess.org/tou...</td>\n",
       "      <td>https://lichess.org/XHWjOWL3</td>\n",
       "      <td>elgranmanny</td>\n",
       "      <td>Ded_Ahmed</td>\n",
       "      <td>0-1</td>\n",
       "      <td>1750</td>\n",
       "      <td>1756</td>\n",
       "      <td>-11</td>\n",
       "      <td>+12</td>\n",
       "      <td>?</td>\n",
       "      <td>?</td>\n",
       "      <td>180+0</td>\n",
       "      <td>Abandoned</td>\n",
       "      <td></td>\n",
       "    </tr>\n",
       "    <tr>\n",
       "      <th>28</th>\n",
       "      <td>Rated Classical tournament https://lichess.org...</td>\n",
       "      <td>https://lichess.org/2mQSSU3s</td>\n",
       "      <td>Jorlu</td>\n",
       "      <td>fandeev</td>\n",
       "      <td>0-1</td>\n",
       "      <td>1927</td>\n",
       "      <td>1910</td>\n",
       "      <td>-13</td>\n",
       "      <td>+12</td>\n",
       "      <td>?</td>\n",
       "      <td>?</td>\n",
       "      <td>600+0</td>\n",
       "      <td>Abandoned</td>\n",
       "      <td></td>\n",
       "    </tr>\n",
       "    <tr>\n",
       "      <th>32</th>\n",
       "      <td>Rated Blitz tournament https://lichess.org/tou...</td>\n",
       "      <td>https://lichess.org/PeJIqKDh</td>\n",
       "      <td>misadr2</td>\n",
       "      <td>salarabdi</td>\n",
       "      <td>1-0</td>\n",
       "      <td>1718</td>\n",
       "      <td>1727</td>\n",
       "      <td>+12</td>\n",
       "      <td>-17</td>\n",
       "      <td>B00</td>\n",
       "      <td>King's Pawn</td>\n",
       "      <td>300+0</td>\n",
       "      <td>Abandoned</td>\n",
       "      <td>1. e4</td>\n",
       "    </tr>\n",
       "  </tbody>\n",
       "</table>\n",
       "</div>"
      ],
      "text/plain": [
       "                                                Event  \\\n",
       "1   Rated Classical tournament https://lichess.org...   \n",
       "22  Rated Classical tournament https://lichess.org...   \n",
       "26  Rated Blitz tournament https://lichess.org/tou...   \n",
       "28  Rated Classical tournament https://lichess.org...   \n",
       "32  Rated Blitz tournament https://lichess.org/tou...   \n",
       "\n",
       "                            Site        White        Black Result WhiteElo  \\\n",
       "1   https://lichess.org/q3tbWY1W  Fherhuitron     Alequine    0-1     1346   \n",
       "22  https://lichess.org/I9FzSzig        Teagy  knightowl16    1-0     1955   \n",
       "26  https://lichess.org/XHWjOWL3  elgranmanny    Ded_Ahmed    0-1     1750   \n",
       "28  https://lichess.org/2mQSSU3s        Jorlu      fandeev    0-1     1927   \n",
       "32  https://lichess.org/PeJIqKDh      misadr2    salarabdi    1-0     1718   \n",
       "\n",
       "   BlackElo WhiteRatingDiff BlackRatingDiff  ECO      Opening TimeControl  \\\n",
       "1      1474             -25              +8    ?            ?       600+0   \n",
       "22     1937             +10             -12  B00  King's Pawn       600+0   \n",
       "26     1756             -11             +12    ?            ?       180+0   \n",
       "28     1910             -13             +12    ?            ?       600+0   \n",
       "32     1727             +12             -17  B00  King's Pawn       300+0   \n",
       "\n",
       "   Termination  Moves  \n",
       "1    Abandoned         \n",
       "22   Abandoned  1. e4  \n",
       "26   Abandoned         \n",
       "28   Abandoned         \n",
       "32   Abandoned  1. e4  "
      ]
     },
     "execution_count": 7,
     "metadata": {},
     "output_type": "execute_result"
    }
   ],
   "source": [
    "abandoned_df.head()"
   ]
  },
  {
   "cell_type": "markdown",
   "id": "eec06f9b-a63c-43f5-bc12-0084836596b0",
   "metadata": {},
   "source": [
    "#### Delete abandoned games"
   ]
  },
  {
   "cell_type": "code",
   "execution_count": 10,
   "id": "12daabd2-e3c0-494f-9b68-72c20f790cdb",
   "metadata": {},
   "outputs": [
    {
     "data": {
      "text/plain": [
       "34852"
      ]
     },
     "execution_count": 10,
     "metadata": {},
     "output_type": "execute_result"
    }
   ],
   "source": [
    "delete_abandoned(df)"
   ]
  },
  {
   "cell_type": "markdown",
   "id": "6a4d9716-9bd3-4ff5-88ee-137ad70bc285",
   "metadata": {},
   "source": [
    "#### Consider deleting unterminated games"
   ]
  },
  {
   "cell_type": "code",
   "execution_count": 12,
   "id": "540a49ea-9e34-4bf0-a7a1-cbf2f70bba0b",
   "metadata": {},
   "outputs": [],
   "source": [
    "unterminated_df = df[df['Termination'] == 'Unterminated']"
   ]
  },
  {
   "cell_type": "code",
   "execution_count": 14,
   "id": "f6bc4853-c0fd-44fe-8c53-d21685550730",
   "metadata": {},
   "outputs": [
    {
     "data": {
      "text/html": [
       "<div>\n",
       "<style scoped>\n",
       "    .dataframe tbody tr th:only-of-type {\n",
       "        vertical-align: middle;\n",
       "    }\n",
       "\n",
       "    .dataframe tbody tr th {\n",
       "        vertical-align: top;\n",
       "    }\n",
       "\n",
       "    .dataframe thead th {\n",
       "        text-align: right;\n",
       "    }\n",
       "</style>\n",
       "<table border=\"1\" class=\"dataframe\">\n",
       "  <thead>\n",
       "    <tr style=\"text-align: right;\">\n",
       "      <th></th>\n",
       "      <th>Event</th>\n",
       "      <th>Site</th>\n",
       "      <th>White</th>\n",
       "      <th>Black</th>\n",
       "      <th>Result</th>\n",
       "      <th>WhiteElo</th>\n",
       "      <th>BlackElo</th>\n",
       "      <th>WhiteRatingDiff</th>\n",
       "      <th>BlackRatingDiff</th>\n",
       "      <th>ECO</th>\n",
       "      <th>Opening</th>\n",
       "      <th>TimeControl</th>\n",
       "      <th>Termination</th>\n",
       "      <th>Moves</th>\n",
       "    </tr>\n",
       "  </thead>\n",
       "  <tbody>\n",
       "    <tr>\n",
       "      <th>518570</th>\n",
       "      <td>Rated Correspondence game</td>\n",
       "      <td>https://lichess.org/NuHYVTDl</td>\n",
       "      <td>Quasselstrippe</td>\n",
       "      <td>obelisk</td>\n",
       "      <td>*</td>\n",
       "      <td>1894</td>\n",
       "      <td>1937</td>\n",
       "      <td>None</td>\n",
       "      <td>None</td>\n",
       "      <td>A20</td>\n",
       "      <td>English Opening: King's English Variation</td>\n",
       "      <td>-</td>\n",
       "      <td>Unterminated</td>\n",
       "      <td>1. c4 e5 2. g3 d6 3. Bg2 g6 4. b3 f5 5. Bb2 Bg...</td>\n",
       "    </tr>\n",
       "    <tr>\n",
       "      <th>947053</th>\n",
       "      <td>Rated Correspondence game</td>\n",
       "      <td>https://lichess.org/Mkvwinr1</td>\n",
       "      <td>cunha18</td>\n",
       "      <td>carnefrita29</td>\n",
       "      <td>*</td>\n",
       "      <td>1311</td>\n",
       "      <td>1885</td>\n",
       "      <td>None</td>\n",
       "      <td>None</td>\n",
       "      <td>B20</td>\n",
       "      <td>Sicilian Defense: Staunton-Cochrane Variation</td>\n",
       "      <td>-</td>\n",
       "      <td>Unterminated</td>\n",
       "      <td>1. e4 c5 2. c4 Nc6 3. Nc3 e5 4. Nf3 d6 5. d3 g...</td>\n",
       "    </tr>\n",
       "    <tr>\n",
       "      <th>1605273</th>\n",
       "      <td>Rated Correspondence game</td>\n",
       "      <td>https://lichess.org/hUaPi7zA</td>\n",
       "      <td>Rikzz</td>\n",
       "      <td>bon-jovi</td>\n",
       "      <td>*</td>\n",
       "      <td>2002</td>\n",
       "      <td>1981</td>\n",
       "      <td>None</td>\n",
       "      <td>None</td>\n",
       "      <td>B06</td>\n",
       "      <td>Robatsch (Modern) Defense</td>\n",
       "      <td>-</td>\n",
       "      <td>Unterminated</td>\n",
       "      <td>1. e4 g6 2. d4 Bg7 3. c3 d6 4. Bc4 Nf6 5. Qc2 ...</td>\n",
       "    </tr>\n",
       "  </tbody>\n",
       "</table>\n",
       "</div>"
      ],
      "text/plain": [
       "                             Event                          Site  \\\n",
       "518570   Rated Correspondence game  https://lichess.org/NuHYVTDl   \n",
       "947053   Rated Correspondence game  https://lichess.org/Mkvwinr1   \n",
       "1605273  Rated Correspondence game  https://lichess.org/hUaPi7zA   \n",
       "\n",
       "                  White         Black Result WhiteElo BlackElo  \\\n",
       "518570   Quasselstrippe       obelisk      *     1894     1937   \n",
       "947053          cunha18  carnefrita29      *     1311     1885   \n",
       "1605273           Rikzz      bon-jovi      *     2002     1981   \n",
       "\n",
       "        WhiteRatingDiff BlackRatingDiff  ECO  \\\n",
       "518570             None            None  A20   \n",
       "947053             None            None  B20   \n",
       "1605273            None            None  B06   \n",
       "\n",
       "                                               Opening TimeControl  \\\n",
       "518570       English Opening: King's English Variation           -   \n",
       "947053   Sicilian Defense: Staunton-Cochrane Variation           -   \n",
       "1605273                      Robatsch (Modern) Defense           -   \n",
       "\n",
       "          Termination                                              Moves  \n",
       "518570   Unterminated  1. c4 e5 2. g3 d6 3. Bg2 g6 4. b3 f5 5. Bb2 Bg...  \n",
       "947053   Unterminated  1. e4 c5 2. c4 Nc6 3. Nc3 e5 4. Nf3 d6 5. d3 g...  \n",
       "1605273  Unterminated  1. e4 g6 2. d4 Bg7 3. c3 d6 4. Bc4 Nf6 5. Qc2 ...  "
      ]
     },
     "execution_count": 14,
     "metadata": {},
     "output_type": "execute_result"
    }
   ],
   "source": [
    "unterminated_df[:3]"
   ]
  },
  {
   "cell_type": "code",
   "execution_count": 15,
   "id": "69c7b788-3ff4-401c-9c28-ab94d0b47b24",
   "metadata": {},
   "outputs": [
    {
     "data": {
      "text/plain": [
       "Event\n",
       "Rated Correspondence game    5\n",
       "Name: count, dtype: int64"
      ]
     },
     "execution_count": 15,
     "metadata": {},
     "output_type": "execute_result"
    }
   ],
   "source": [
    "unterminated_df['Event'].value_counts()"
   ]
  },
  {
   "cell_type": "markdown",
   "id": "26bcbda9-3de0-4f4e-8320-9391c9f06401",
   "metadata": {},
   "source": [
    "#### Delete unterminated games"
   ]
  },
  {
   "cell_type": "code",
   "execution_count": 16,
   "id": "27572c43-913f-4358-a63b-13478941359b",
   "metadata": {},
   "outputs": [
    {
     "data": {
      "text/plain": [
       "5"
      ]
     },
     "execution_count": 16,
     "metadata": {},
     "output_type": "execute_result"
    }
   ],
   "source": [
    "delete_unterminated(df)"
   ]
  },
  {
   "cell_type": "code",
   "execution_count": 21,
   "id": "f68d7b1f-64d6-4d4c-b62e-faeb8d8086c2",
   "metadata": {},
   "outputs": [],
   "source": [
    "rules_infraction_df = df[df['Termination'] == 'Rules infraction']"
   ]
  },
  {
   "cell_type": "code",
   "execution_count": 22,
   "id": "6286429f-04ee-460a-9efb-cbd41ae606f3",
   "metadata": {},
   "outputs": [
    {
     "data": {
      "text/html": [
       "<div>\n",
       "<style scoped>\n",
       "    .dataframe tbody tr th:only-of-type {\n",
       "        vertical-align: middle;\n",
       "    }\n",
       "\n",
       "    .dataframe tbody tr th {\n",
       "        vertical-align: top;\n",
       "    }\n",
       "\n",
       "    .dataframe thead th {\n",
       "        text-align: right;\n",
       "    }\n",
       "</style>\n",
       "<table border=\"1\" class=\"dataframe\">\n",
       "  <thead>\n",
       "    <tr style=\"text-align: right;\">\n",
       "      <th></th>\n",
       "      <th>Event</th>\n",
       "      <th>Site</th>\n",
       "      <th>White</th>\n",
       "      <th>Black</th>\n",
       "      <th>Result</th>\n",
       "      <th>WhiteElo</th>\n",
       "      <th>BlackElo</th>\n",
       "      <th>WhiteRatingDiff</th>\n",
       "      <th>BlackRatingDiff</th>\n",
       "      <th>ECO</th>\n",
       "      <th>Opening</th>\n",
       "      <th>TimeControl</th>\n",
       "      <th>Termination</th>\n",
       "      <th>Moves</th>\n",
       "    </tr>\n",
       "  </thead>\n",
       "  <tbody>\n",
       "    <tr>\n",
       "      <th>21983</th>\n",
       "      <td>Rated Blitz game</td>\n",
       "      <td>https://lichess.org/HTFLtODp</td>\n",
       "      <td>naotomate</td>\n",
       "      <td>G4lvezLuciano</td>\n",
       "      <td>1-0</td>\n",
       "      <td>1621</td>\n",
       "      <td>1564</td>\n",
       "      <td>+9</td>\n",
       "      <td>-11</td>\n",
       "      <td>D51</td>\n",
       "      <td>Queen's Gambit Declined: Modern, Knight Defens...</td>\n",
       "      <td>180+0</td>\n",
       "      <td>Rules infraction</td>\n",
       "      <td>1. d4 Nf6 2. c4 e6 3. Nc3 d5 4. Bg5 Nbd7 5. e3 h6</td>\n",
       "    </tr>\n",
       "    <tr>\n",
       "      <th>22156</th>\n",
       "      <td>Rated Blitz game</td>\n",
       "      <td>https://lichess.org/EtthZozB</td>\n",
       "      <td>GrofodHadzica</td>\n",
       "      <td>G4lvezLuciano</td>\n",
       "      <td>1-0</td>\n",
       "      <td>1658</td>\n",
       "      <td>1553</td>\n",
       "      <td>+11</td>\n",
       "      <td>-9</td>\n",
       "      <td>C42</td>\n",
       "      <td>Russian Game: Urusov Gambit</td>\n",
       "      <td>300+0</td>\n",
       "      <td>Rules infraction</td>\n",
       "      <td>1. e4 e5 2. Nf3 Nf6 3. Bc4 Nxe4 4. Nxe5 d5 5. ...</td>\n",
       "    </tr>\n",
       "    <tr>\n",
       "      <th>63994</th>\n",
       "      <td>Rated Classical game</td>\n",
       "      <td>https://lichess.org/y6vJXofx</td>\n",
       "      <td>bulychev691</td>\n",
       "      <td>TuxTux1</td>\n",
       "      <td>1-0</td>\n",
       "      <td>1771</td>\n",
       "      <td>1741</td>\n",
       "      <td>+9</td>\n",
       "      <td>-88</td>\n",
       "      <td>C84</td>\n",
       "      <td>Ruy Lopez: Closed Variations</td>\n",
       "      <td>600+10</td>\n",
       "      <td>Rules infraction</td>\n",
       "      <td>1. e4 e5 2. Nf3 Nc6 3. Bb5 a6 4. Ba4 Nf6 5. O-...</td>\n",
       "    </tr>\n",
       "  </tbody>\n",
       "</table>\n",
       "</div>"
      ],
      "text/plain": [
       "                      Event                          Site          White  \\\n",
       "21983      Rated Blitz game  https://lichess.org/HTFLtODp      naotomate   \n",
       "22156      Rated Blitz game  https://lichess.org/EtthZozB  GrofodHadzica   \n",
       "63994  Rated Classical game  https://lichess.org/y6vJXofx    bulychev691   \n",
       "\n",
       "               Black Result WhiteElo BlackElo WhiteRatingDiff BlackRatingDiff  \\\n",
       "21983  G4lvezLuciano    1-0     1621     1564              +9             -11   \n",
       "22156  G4lvezLuciano    1-0     1658     1553             +11              -9   \n",
       "63994        TuxTux1    1-0     1771     1741              +9             -88   \n",
       "\n",
       "       ECO                                            Opening TimeControl  \\\n",
       "21983  D51  Queen's Gambit Declined: Modern, Knight Defens...       180+0   \n",
       "22156  C42                        Russian Game: Urusov Gambit       300+0   \n",
       "63994  C84                       Ruy Lopez: Closed Variations      600+10   \n",
       "\n",
       "            Termination                                              Moves  \n",
       "21983  Rules infraction  1. d4 Nf6 2. c4 e6 3. Nc3 d5 4. Bg5 Nbd7 5. e3 h6  \n",
       "22156  Rules infraction  1. e4 e5 2. Nf3 Nf6 3. Bc4 Nxe4 4. Nxe5 d5 5. ...  \n",
       "63994  Rules infraction  1. e4 e5 2. Nf3 Nc6 3. Bb5 a6 4. Ba4 Nf6 5. O-...  "
      ]
     },
     "execution_count": 22,
     "metadata": {},
     "output_type": "execute_result"
    }
   ],
   "source": [
    "rules_infraction_df[:3]"
   ]
  },
  {
   "cell_type": "markdown",
   "id": "7747f7b9-ed3f-4c97-88c9-9218f5356ee1",
   "metadata": {},
   "source": [
    "#### On the website it says cheating was detected for each game\n",
    "#### Delete rules infraction games"
   ]
  },
  {
   "cell_type": "code",
   "execution_count": 25,
   "id": "ed2835de-039c-43e5-a3f6-bcbd215251b1",
   "metadata": {},
   "outputs": [
    {
     "data": {
      "text/plain": [
       "132"
      ]
     },
     "execution_count": 25,
     "metadata": {},
     "output_type": "execute_result"
    }
   ],
   "source": [
    "delete_rules_infraction(df)"
   ]
  },
  {
   "cell_type": "code",
   "execution_count": null,
   "id": "469aafd3-0507-4409-9b8b-f4aade010270",
   "metadata": {},
   "outputs": [],
   "source": []
  }
 ],
 "metadata": {
  "kernelspec": {
   "display_name": "Python 3 (ipykernel)",
   "language": "python",
   "name": "python3"
  },
  "language_info": {
   "codemirror_mode": {
    "name": "ipython",
    "version": 3
   },
   "file_extension": ".py",
   "mimetype": "text/x-python",
   "name": "python",
   "nbconvert_exporter": "python",
   "pygments_lexer": "ipython3",
   "version": "3.12.2"
  }
 },
 "nbformat": 4,
 "nbformat_minor": 5
}
